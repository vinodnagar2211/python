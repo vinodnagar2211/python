{
 "cells": [
  {
   "cell_type": "code",
   "execution_count": 1,
   "id": "3a1cff8b",
   "metadata": {},
   "outputs": [],
   "source": [
    "# Feature Engineering \n",
    "\n",
    "# (1). Standardization ==> mean , std ==> convert ==> mean = 0 , std = 1 \n",
    "\n",
    "# mean = np.sum(xi)/N \n",
    "\n",
    "# std = square_root(np.sum(xi-mean_of_data)/N)\n",
    "\n",
    "# z_score = (xi - mean)/std"
   ]
  },
  {
   "cell_type": "code",
   "execution_count": 2,
   "id": "3a70d7ba",
   "metadata": {},
   "outputs": [],
   "source": [
    "# Current Data ==> DataFrame  \n",
    "\n",
    "# DataFrame ==> input_data(x) , output or target_data(y)\n",
    "\n",
    "# X ==> x_train , x_test \n",
    "\n",
    "# y ==> y_train , y_test "
   ]
  },
  {
   "cell_type": "code",
   "execution_count": 3,
   "id": "78fb8734",
   "metadata": {},
   "outputs": [],
   "source": [
    "import numpy as np \n",
    "import pandas as pd "
   ]
  },
  {
   "cell_type": "code",
   "execution_count": 4,
   "id": "7f40d0ad",
   "metadata": {},
   "outputs": [],
   "source": [
    "df = pd.read_csv(\"C:\\\\Users\\\\saurabh\\\\Desktop\\\\pyth\\\\click.csv\")"
   ]
  },
  {
   "cell_type": "code",
   "execution_count": 5,
   "id": "55c4aefd",
   "metadata": {},
   "outputs": [
    {
     "data": {
      "text/html": [
       "<div>\n",
       "<style scoped>\n",
       "    .dataframe tbody tr th:only-of-type {\n",
       "        vertical-align: middle;\n",
       "    }\n",
       "\n",
       "    .dataframe tbody tr th {\n",
       "        vertical-align: top;\n",
       "    }\n",
       "\n",
       "    .dataframe thead th {\n",
       "        text-align: right;\n",
       "    }\n",
       "</style>\n",
       "<table border=\"1\" class=\"dataframe\">\n",
       "  <thead>\n",
       "    <tr style=\"text-align: right;\">\n",
       "      <th></th>\n",
       "      <th>Daily Time Spent on Site</th>\n",
       "      <th>Age</th>\n",
       "      <th>Area Income</th>\n",
       "      <th>Daily Internet Usage</th>\n",
       "      <th>Ad Topic Line</th>\n",
       "      <th>City</th>\n",
       "      <th>Gender</th>\n",
       "      <th>Country</th>\n",
       "      <th>Timestamp</th>\n",
       "      <th>Clicked on Ad</th>\n",
       "    </tr>\n",
       "  </thead>\n",
       "  <tbody>\n",
       "    <tr>\n",
       "      <th>0</th>\n",
       "      <td>62.26</td>\n",
       "      <td>32.0</td>\n",
       "      <td>69481.85</td>\n",
       "      <td>172.83</td>\n",
       "      <td>Decentralized real-time circuit</td>\n",
       "      <td>Lisafort</td>\n",
       "      <td>Male</td>\n",
       "      <td>Svalbard &amp; Jan Mayen Islands</td>\n",
       "      <td>2016-06-09 21:43:05</td>\n",
       "      <td>0</td>\n",
       "    </tr>\n",
       "    <tr>\n",
       "      <th>1</th>\n",
       "      <td>41.73</td>\n",
       "      <td>31.0</td>\n",
       "      <td>61840.26</td>\n",
       "      <td>207.17</td>\n",
       "      <td>Optional full-range projection</td>\n",
       "      <td>West Angelabury</td>\n",
       "      <td>Male</td>\n",
       "      <td>Singapore</td>\n",
       "      <td>2016-01-16 17:56:05</td>\n",
       "      <td>0</td>\n",
       "    </tr>\n",
       "  </tbody>\n",
       "</table>\n",
       "</div>"
      ],
      "text/plain": [
       "   Daily Time Spent on Site   Age  Area Income  Daily Internet Usage  \\\n",
       "0                     62.26  32.0     69481.85                172.83   \n",
       "1                     41.73  31.0     61840.26                207.17   \n",
       "\n",
       "                     Ad Topic Line             City Gender  \\\n",
       "0  Decentralized real-time circuit         Lisafort   Male   \n",
       "1   Optional full-range projection  West Angelabury   Male   \n",
       "\n",
       "                        Country            Timestamp  Clicked on Ad  \n",
       "0  Svalbard & Jan Mayen Islands  2016-06-09 21:43:05              0  \n",
       "1                     Singapore  2016-01-16 17:56:05              0  "
      ]
     },
     "execution_count": 5,
     "metadata": {},
     "output_type": "execute_result"
    }
   ],
   "source": [
    "df.head(2) "
   ]
  },
  {
   "cell_type": "code",
   "execution_count": 6,
   "id": "847dd6a9",
   "metadata": {},
   "outputs": [
    {
     "data": {
      "text/plain": [
       "Index(['Daily Time Spent on Site', 'Age', 'Area Income',\n",
       "       'Daily Internet Usage', 'Ad Topic Line', 'City', 'Gender', 'Country',\n",
       "       'Timestamp', 'Clicked on Ad'],\n",
       "      dtype='object')"
      ]
     },
     "execution_count": 6,
     "metadata": {},
     "output_type": "execute_result"
    }
   ],
   "source": [
    "df.columns "
   ]
  },
  {
   "cell_type": "code",
   "execution_count": 7,
   "id": "7997a064",
   "metadata": {},
   "outputs": [
    {
     "name": "stdout",
     "output_type": "stream",
     "text": [
      "<class 'pandas.core.frame.DataFrame'>\n",
      "RangeIndex: 10000 entries, 0 to 9999\n",
      "Data columns (total 10 columns):\n",
      " #   Column                    Non-Null Count  Dtype  \n",
      "---  ------                    --------------  -----  \n",
      " 0   Daily Time Spent on Site  10000 non-null  float64\n",
      " 1   Age                       10000 non-null  float64\n",
      " 2   Area Income               10000 non-null  float64\n",
      " 3   Daily Internet Usage      10000 non-null  float64\n",
      " 4   Ad Topic Line             10000 non-null  object \n",
      " 5   City                      10000 non-null  object \n",
      " 6   Gender                    10000 non-null  object \n",
      " 7   Country                   10000 non-null  object \n",
      " 8   Timestamp                 10000 non-null  object \n",
      " 9   Clicked on Ad             10000 non-null  int64  \n",
      "dtypes: float64(4), int64(1), object(5)\n",
      "memory usage: 781.4+ KB\n"
     ]
    }
   ],
   "source": [
    "df.info() "
   ]
  },
  {
   "cell_type": "code",
   "execution_count": 8,
   "id": "28786812",
   "metadata": {},
   "outputs": [
    {
     "data": {
      "text/plain": [
       "Hubbardmouth       336\n",
       "West Brandonton    275\n",
       "Lisafort           261\n",
       "Wintersfort        230\n",
       "Stewartbury        207\n",
       "                  ... \n",
       "Turnerview           1\n",
       "North Tiffany        1\n",
       "North Kristine       1\n",
       "East Troyhaven       1\n",
       "Davidview            1\n",
       "Name: City, Length: 521, dtype: int64"
      ]
     },
     "execution_count": 8,
     "metadata": {},
     "output_type": "execute_result"
    }
   ],
   "source": [
    "df['City'].value_counts() "
   ]
  },
  {
   "cell_type": "code",
   "execution_count": 9,
   "id": "a2740a10",
   "metadata": {},
   "outputs": [],
   "source": [
    "df = df.drop(columns = ['Ad Topic Line' , 'Timestamp' ] , axis = 1) "
   ]
  },
  {
   "cell_type": "code",
   "execution_count": 10,
   "id": "8fa2ad60",
   "metadata": {},
   "outputs": [
    {
     "data": {
      "text/html": [
       "<div>\n",
       "<style scoped>\n",
       "    .dataframe tbody tr th:only-of-type {\n",
       "        vertical-align: middle;\n",
       "    }\n",
       "\n",
       "    .dataframe tbody tr th {\n",
       "        vertical-align: top;\n",
       "    }\n",
       "\n",
       "    .dataframe thead th {\n",
       "        text-align: right;\n",
       "    }\n",
       "</style>\n",
       "<table border=\"1\" class=\"dataframe\">\n",
       "  <thead>\n",
       "    <tr style=\"text-align: right;\">\n",
       "      <th></th>\n",
       "      <th>Daily Time Spent on Site</th>\n",
       "      <th>Age</th>\n",
       "      <th>Area Income</th>\n",
       "      <th>Daily Internet Usage</th>\n",
       "      <th>City</th>\n",
       "      <th>Gender</th>\n",
       "      <th>Country</th>\n",
       "      <th>Clicked on Ad</th>\n",
       "    </tr>\n",
       "  </thead>\n",
       "  <tbody>\n",
       "    <tr>\n",
       "      <th>0</th>\n",
       "      <td>62.26</td>\n",
       "      <td>32.0</td>\n",
       "      <td>69481.85</td>\n",
       "      <td>172.83</td>\n",
       "      <td>Lisafort</td>\n",
       "      <td>Male</td>\n",
       "      <td>Svalbard &amp; Jan Mayen Islands</td>\n",
       "      <td>0</td>\n",
       "    </tr>\n",
       "    <tr>\n",
       "      <th>1</th>\n",
       "      <td>41.73</td>\n",
       "      <td>31.0</td>\n",
       "      <td>61840.26</td>\n",
       "      <td>207.17</td>\n",
       "      <td>West Angelabury</td>\n",
       "      <td>Male</td>\n",
       "      <td>Singapore</td>\n",
       "      <td>0</td>\n",
       "    </tr>\n",
       "    <tr>\n",
       "      <th>2</th>\n",
       "      <td>44.40</td>\n",
       "      <td>30.0</td>\n",
       "      <td>57877.15</td>\n",
       "      <td>172.83</td>\n",
       "      <td>Reyesfurt</td>\n",
       "      <td>Female</td>\n",
       "      <td>Guadeloupe</td>\n",
       "      <td>0</td>\n",
       "    </tr>\n",
       "    <tr>\n",
       "      <th>3</th>\n",
       "      <td>59.88</td>\n",
       "      <td>28.0</td>\n",
       "      <td>56180.93</td>\n",
       "      <td>207.17</td>\n",
       "      <td>New Michael</td>\n",
       "      <td>Female</td>\n",
       "      <td>Zambia</td>\n",
       "      <td>0</td>\n",
       "    </tr>\n",
       "    <tr>\n",
       "      <th>4</th>\n",
       "      <td>49.21</td>\n",
       "      <td>30.0</td>\n",
       "      <td>54324.73</td>\n",
       "      <td>201.58</td>\n",
       "      <td>West Richard</td>\n",
       "      <td>Female</td>\n",
       "      <td>Qatar</td>\n",
       "      <td>1</td>\n",
       "    </tr>\n",
       "  </tbody>\n",
       "</table>\n",
       "</div>"
      ],
      "text/plain": [
       "   Daily Time Spent on Site   Age  Area Income  Daily Internet Usage  \\\n",
       "0                     62.26  32.0     69481.85                172.83   \n",
       "1                     41.73  31.0     61840.26                207.17   \n",
       "2                     44.40  30.0     57877.15                172.83   \n",
       "3                     59.88  28.0     56180.93                207.17   \n",
       "4                     49.21  30.0     54324.73                201.58   \n",
       "\n",
       "              City  Gender                       Country  Clicked on Ad  \n",
       "0         Lisafort    Male  Svalbard & Jan Mayen Islands              0  \n",
       "1  West Angelabury    Male                     Singapore              0  \n",
       "2        Reyesfurt  Female                    Guadeloupe              0  \n",
       "3      New Michael  Female                        Zambia              0  \n",
       "4     West Richard  Female                         Qatar              1  "
      ]
     },
     "execution_count": 10,
     "metadata": {},
     "output_type": "execute_result"
    }
   ],
   "source": [
    "df.head() "
   ]
  },
  {
   "cell_type": "code",
   "execution_count": 11,
   "id": "f6549971",
   "metadata": {},
   "outputs": [],
   "source": [
    "from sklearn.preprocessing import LabelEncoder "
   ]
  },
  {
   "cell_type": "code",
   "execution_count": 12,
   "id": "4d57ffb0",
   "metadata": {},
   "outputs": [],
   "source": [
    "lb = LabelEncoder()"
   ]
  },
  {
   "cell_type": "code",
   "execution_count": 13,
   "id": "1ef1ef64",
   "metadata": {},
   "outputs": [],
   "source": [
    "df['City'] = lb.fit_transform(df['City'])\n",
    "df['Gender'] = lb.fit_transform(df['Gender'])\n",
    "df['Country'] = lb.fit_transform(df['Country'])"
   ]
  },
  {
   "cell_type": "code",
   "execution_count": 14,
   "id": "3a5c4dde",
   "metadata": {},
   "outputs": [
    {
     "data": {
      "text/html": [
       "<div>\n",
       "<style scoped>\n",
       "    .dataframe tbody tr th:only-of-type {\n",
       "        vertical-align: middle;\n",
       "    }\n",
       "\n",
       "    .dataframe tbody tr th {\n",
       "        vertical-align: top;\n",
       "    }\n",
       "\n",
       "    .dataframe thead th {\n",
       "        text-align: right;\n",
       "    }\n",
       "</style>\n",
       "<table border=\"1\" class=\"dataframe\">\n",
       "  <thead>\n",
       "    <tr style=\"text-align: right;\">\n",
       "      <th></th>\n",
       "      <th>Daily Time Spent on Site</th>\n",
       "      <th>Age</th>\n",
       "      <th>Area Income</th>\n",
       "      <th>Daily Internet Usage</th>\n",
       "      <th>City</th>\n",
       "      <th>Gender</th>\n",
       "      <th>Country</th>\n",
       "      <th>Clicked on Ad</th>\n",
       "    </tr>\n",
       "  </thead>\n",
       "  <tbody>\n",
       "    <tr>\n",
       "      <th>0</th>\n",
       "      <td>62.26</td>\n",
       "      <td>32.0</td>\n",
       "      <td>69481.85</td>\n",
       "      <td>172.83</td>\n",
       "      <td>234</td>\n",
       "      <td>1</td>\n",
       "      <td>174</td>\n",
       "      <td>0</td>\n",
       "    </tr>\n",
       "    <tr>\n",
       "      <th>1</th>\n",
       "      <td>41.73</td>\n",
       "      <td>31.0</td>\n",
       "      <td>61840.26</td>\n",
       "      <td>207.17</td>\n",
       "      <td>460</td>\n",
       "      <td>1</td>\n",
       "      <td>166</td>\n",
       "      <td>0</td>\n",
       "    </tr>\n",
       "    <tr>\n",
       "      <th>2</th>\n",
       "      <td>44.40</td>\n",
       "      <td>30.0</td>\n",
       "      <td>57877.15</td>\n",
       "      <td>172.83</td>\n",
       "      <td>379</td>\n",
       "      <td>0</td>\n",
       "      <td>71</td>\n",
       "      <td>0</td>\n",
       "    </tr>\n",
       "    <tr>\n",
       "      <th>3</th>\n",
       "      <td>59.88</td>\n",
       "      <td>28.0</td>\n",
       "      <td>56180.93</td>\n",
       "      <td>207.17</td>\n",
       "      <td>269</td>\n",
       "      <td>0</td>\n",
       "      <td>205</td>\n",
       "      <td>0</td>\n",
       "    </tr>\n",
       "    <tr>\n",
       "      <th>4</th>\n",
       "      <td>49.21</td>\n",
       "      <td>30.0</td>\n",
       "      <td>54324.73</td>\n",
       "      <td>201.58</td>\n",
       "      <td>495</td>\n",
       "      <td>0</td>\n",
       "      <td>149</td>\n",
       "      <td>1</td>\n",
       "    </tr>\n",
       "    <tr>\n",
       "      <th>...</th>\n",
       "      <td>...</td>\n",
       "      <td>...</td>\n",
       "      <td>...</td>\n",
       "      <td>...</td>\n",
       "      <td>...</td>\n",
       "      <td>...</td>\n",
       "      <td>...</td>\n",
       "      <td>...</td>\n",
       "    </tr>\n",
       "    <tr>\n",
       "      <th>9995</th>\n",
       "      <td>41.73</td>\n",
       "      <td>31.0</td>\n",
       "      <td>61840.26</td>\n",
       "      <td>207.17</td>\n",
       "      <td>460</td>\n",
       "      <td>1</td>\n",
       "      <td>166</td>\n",
       "      <td>1</td>\n",
       "    </tr>\n",
       "    <tr>\n",
       "      <th>9996</th>\n",
       "      <td>41.73</td>\n",
       "      <td>28.0</td>\n",
       "      <td>51501.38</td>\n",
       "      <td>120.49</td>\n",
       "      <td>177</td>\n",
       "      <td>1</td>\n",
       "      <td>105</td>\n",
       "      <td>0</td>\n",
       "    </tr>\n",
       "    <tr>\n",
       "      <th>9997</th>\n",
       "      <td>55.60</td>\n",
       "      <td>39.0</td>\n",
       "      <td>38067.08</td>\n",
       "      <td>124.44</td>\n",
       "      <td>316</td>\n",
       "      <td>0</td>\n",
       "      <td>48</td>\n",
       "      <td>0</td>\n",
       "    </tr>\n",
       "    <tr>\n",
       "      <th>9998</th>\n",
       "      <td>46.61</td>\n",
       "      <td>50.0</td>\n",
       "      <td>43974.49</td>\n",
       "      <td>123.13</td>\n",
       "      <td>321</td>\n",
       "      <td>0</td>\n",
       "      <td>108</td>\n",
       "      <td>1</td>\n",
       "    </tr>\n",
       "    <tr>\n",
       "      <th>9999</th>\n",
       "      <td>46.61</td>\n",
       "      <td>43.0</td>\n",
       "      <td>60575.99</td>\n",
       "      <td>198.45</td>\n",
       "      <td>355</td>\n",
       "      <td>1</td>\n",
       "      <td>136</td>\n",
       "      <td>1</td>\n",
       "    </tr>\n",
       "  </tbody>\n",
       "</table>\n",
       "<p>10000 rows × 8 columns</p>\n",
       "</div>"
      ],
      "text/plain": [
       "      Daily Time Spent on Site   Age  Area Income  Daily Internet Usage  City  \\\n",
       "0                        62.26  32.0     69481.85                172.83   234   \n",
       "1                        41.73  31.0     61840.26                207.17   460   \n",
       "2                        44.40  30.0     57877.15                172.83   379   \n",
       "3                        59.88  28.0     56180.93                207.17   269   \n",
       "4                        49.21  30.0     54324.73                201.58   495   \n",
       "...                        ...   ...          ...                   ...   ...   \n",
       "9995                     41.73  31.0     61840.26                207.17   460   \n",
       "9996                     41.73  28.0     51501.38                120.49   177   \n",
       "9997                     55.60  39.0     38067.08                124.44   316   \n",
       "9998                     46.61  50.0     43974.49                123.13   321   \n",
       "9999                     46.61  43.0     60575.99                198.45   355   \n",
       "\n",
       "      Gender  Country  Clicked on Ad  \n",
       "0          1      174              0  \n",
       "1          1      166              0  \n",
       "2          0       71              0  \n",
       "3          0      205              0  \n",
       "4          0      149              1  \n",
       "...      ...      ...            ...  \n",
       "9995       1      166              1  \n",
       "9996       1      105              0  \n",
       "9997       0       48              0  \n",
       "9998       0      108              1  \n",
       "9999       1      136              1  \n",
       "\n",
       "[10000 rows x 8 columns]"
      ]
     },
     "execution_count": 14,
     "metadata": {},
     "output_type": "execute_result"
    }
   ],
   "source": [
    "df"
   ]
  },
  {
   "cell_type": "code",
   "execution_count": 15,
   "id": "c11bbc3b",
   "metadata": {},
   "outputs": [
    {
     "data": {
      "text/plain": [
       "Daily Time Spent on Site    0\n",
       "Age                         0\n",
       "Area Income                 0\n",
       "Daily Internet Usage        0\n",
       "City                        0\n",
       "Gender                      0\n",
       "Country                     0\n",
       "Clicked on Ad               0\n",
       "dtype: int64"
      ]
     },
     "execution_count": 15,
     "metadata": {},
     "output_type": "execute_result"
    }
   ],
   "source": [
    "df.isnull().sum() "
   ]
  },
  {
   "cell_type": "code",
   "execution_count": 16,
   "id": "3d101bf8",
   "metadata": {},
   "outputs": [],
   "source": [
    "x = df.drop(columns = ['Clicked on Ad'] , axis = 1) #Independent column "
   ]
  },
  {
   "cell_type": "code",
   "execution_count": 17,
   "id": "533263a3",
   "metadata": {},
   "outputs": [],
   "source": [
    "y = df['Clicked on Ad']"
   ]
  },
  {
   "cell_type": "code",
   "execution_count": 18,
   "id": "70edd19a",
   "metadata": {},
   "outputs": [],
   "source": [
    "from sklearn.preprocessing import StandardScaler "
   ]
  },
  {
   "cell_type": "code",
   "execution_count": 19,
   "id": "3615c08b",
   "metadata": {},
   "outputs": [],
   "source": [
    "from sklearn.model_selection import train_test_split "
   ]
  },
  {
   "cell_type": "code",
   "execution_count": 20,
   "id": "9bfb0e4e",
   "metadata": {},
   "outputs": [],
   "source": [
    "x_train , x_test , y_train , y_test = train_test_split(x,y,test_size = 0.2 , random_state = 42)"
   ]
  },
  {
   "cell_type": "code",
   "execution_count": 21,
   "id": "fd6fb1af",
   "metadata": {},
   "outputs": [
    {
     "data": {
      "text/html": [
       "<div>\n",
       "<style scoped>\n",
       "    .dataframe tbody tr th:only-of-type {\n",
       "        vertical-align: middle;\n",
       "    }\n",
       "\n",
       "    .dataframe tbody tr th {\n",
       "        vertical-align: top;\n",
       "    }\n",
       "\n",
       "    .dataframe thead th {\n",
       "        text-align: right;\n",
       "    }\n",
       "</style>\n",
       "<table border=\"1\" class=\"dataframe\">\n",
       "  <thead>\n",
       "    <tr style=\"text-align: right;\">\n",
       "      <th></th>\n",
       "      <th>Daily Time Spent on Site</th>\n",
       "      <th>Age</th>\n",
       "      <th>Area Income</th>\n",
       "      <th>Daily Internet Usage</th>\n",
       "      <th>City</th>\n",
       "      <th>Gender</th>\n",
       "      <th>Country</th>\n",
       "    </tr>\n",
       "  </thead>\n",
       "  <tbody>\n",
       "    <tr>\n",
       "      <th>9254</th>\n",
       "      <td>74.15</td>\n",
       "      <td>31.0</td>\n",
       "      <td>59677.64</td>\n",
       "      <td>207.17</td>\n",
       "      <td>269</td>\n",
       "      <td>1</td>\n",
       "      <td>15</td>\n",
       "    </tr>\n",
       "    <tr>\n",
       "      <th>1561</th>\n",
       "      <td>72.80</td>\n",
       "      <td>29.0</td>\n",
       "      <td>73910.90</td>\n",
       "      <td>195.69</td>\n",
       "      <td>25</td>\n",
       "      <td>1</td>\n",
       "      <td>190</td>\n",
       "    </tr>\n",
       "    <tr>\n",
       "      <th>1670</th>\n",
       "      <td>42.04</td>\n",
       "      <td>40.0</td>\n",
       "      <td>39723.97</td>\n",
       "      <td>165.27</td>\n",
       "      <td>326</td>\n",
       "      <td>0</td>\n",
       "      <td>27</td>\n",
       "    </tr>\n",
       "    <tr>\n",
       "      <th>6087</th>\n",
       "      <td>66.18</td>\n",
       "      <td>49.0</td>\n",
       "      <td>45632.51</td>\n",
       "      <td>124.32</td>\n",
       "      <td>193</td>\n",
       "      <td>0</td>\n",
       "      <td>24</td>\n",
       "    </tr>\n",
       "    <tr>\n",
       "      <th>6669</th>\n",
       "      <td>44.57</td>\n",
       "      <td>36.0</td>\n",
       "      <td>50628.31</td>\n",
       "      <td>168.92</td>\n",
       "      <td>54</td>\n",
       "      <td>1</td>\n",
       "      <td>168</td>\n",
       "    </tr>\n",
       "    <tr>\n",
       "      <th>...</th>\n",
       "      <td>...</td>\n",
       "      <td>...</td>\n",
       "      <td>...</td>\n",
       "      <td>...</td>\n",
       "      <td>...</td>\n",
       "      <td>...</td>\n",
       "      <td>...</td>\n",
       "    </tr>\n",
       "    <tr>\n",
       "      <th>5734</th>\n",
       "      <td>82.07</td>\n",
       "      <td>41.0</td>\n",
       "      <td>57846.68</td>\n",
       "      <td>126.39</td>\n",
       "      <td>484</td>\n",
       "      <td>0</td>\n",
       "      <td>149</td>\n",
       "    </tr>\n",
       "    <tr>\n",
       "      <th>5191</th>\n",
       "      <td>89.00</td>\n",
       "      <td>36.0</td>\n",
       "      <td>50628.31</td>\n",
       "      <td>126.39</td>\n",
       "      <td>248</td>\n",
       "      <td>1</td>\n",
       "      <td>187</td>\n",
       "    </tr>\n",
       "    <tr>\n",
       "      <th>5390</th>\n",
       "      <td>78.84</td>\n",
       "      <td>35.0</td>\n",
       "      <td>25603.93</td>\n",
       "      <td>236.87</td>\n",
       "      <td>516</td>\n",
       "      <td>0</td>\n",
       "      <td>192</td>\n",
       "    </tr>\n",
       "    <tr>\n",
       "      <th>860</th>\n",
       "      <td>59.51</td>\n",
       "      <td>30.0</td>\n",
       "      <td>57877.15</td>\n",
       "      <td>138.71</td>\n",
       "      <td>515</td>\n",
       "      <td>1</td>\n",
       "      <td>20</td>\n",
       "    </tr>\n",
       "    <tr>\n",
       "      <th>7270</th>\n",
       "      <td>59.05</td>\n",
       "      <td>33.0</td>\n",
       "      <td>52736.33</td>\n",
       "      <td>113.12</td>\n",
       "      <td>33</td>\n",
       "      <td>1</td>\n",
       "      <td>200</td>\n",
       "    </tr>\n",
       "  </tbody>\n",
       "</table>\n",
       "<p>8000 rows × 7 columns</p>\n",
       "</div>"
      ],
      "text/plain": [
       "      Daily Time Spent on Site   Age  Area Income  Daily Internet Usage  City  \\\n",
       "9254                     74.15  31.0     59677.64                207.17   269   \n",
       "1561                     72.80  29.0     73910.90                195.69    25   \n",
       "1670                     42.04  40.0     39723.97                165.27   326   \n",
       "6087                     66.18  49.0     45632.51                124.32   193   \n",
       "6669                     44.57  36.0     50628.31                168.92    54   \n",
       "...                        ...   ...          ...                   ...   ...   \n",
       "5734                     82.07  41.0     57846.68                126.39   484   \n",
       "5191                     89.00  36.0     50628.31                126.39   248   \n",
       "5390                     78.84  35.0     25603.93                236.87   516   \n",
       "860                      59.51  30.0     57877.15                138.71   515   \n",
       "7270                     59.05  33.0     52736.33                113.12    33   \n",
       "\n",
       "      Gender  Country  \n",
       "9254       1       15  \n",
       "1561       1      190  \n",
       "1670       0       27  \n",
       "6087       0       24  \n",
       "6669       1      168  \n",
       "...      ...      ...  \n",
       "5734       0      149  \n",
       "5191       1      187  \n",
       "5390       0      192  \n",
       "860        1       20  \n",
       "7270       1      200  \n",
       "\n",
       "[8000 rows x 7 columns]"
      ]
     },
     "execution_count": 21,
     "metadata": {},
     "output_type": "execute_result"
    }
   ],
   "source": [
    "x_train"
   ]
  },
  {
   "cell_type": "code",
   "execution_count": 22,
   "id": "e458ff2b",
   "metadata": {},
   "outputs": [
    {
     "data": {
      "text/plain": [
       "(10000, 8)"
      ]
     },
     "execution_count": 22,
     "metadata": {},
     "output_type": "execute_result"
    }
   ],
   "source": [
    "df.shape "
   ]
  },
  {
   "cell_type": "code",
   "execution_count": 23,
   "id": "ebf12558",
   "metadata": {},
   "outputs": [
    {
     "data": {
      "text/plain": [
       "(10000, 7)"
      ]
     },
     "execution_count": 23,
     "metadata": {},
     "output_type": "execute_result"
    }
   ],
   "source": [
    "x.shape"
   ]
  },
  {
   "cell_type": "code",
   "execution_count": 24,
   "id": "5860ff66",
   "metadata": {},
   "outputs": [
    {
     "data": {
      "text/plain": [
       "(10000,)"
      ]
     },
     "execution_count": 24,
     "metadata": {},
     "output_type": "execute_result"
    }
   ],
   "source": [
    "y.shape"
   ]
  },
  {
   "cell_type": "code",
   "execution_count": 25,
   "id": "e6249456",
   "metadata": {},
   "outputs": [
    {
     "data": {
      "text/plain": [
       "(8000, 7)"
      ]
     },
     "execution_count": 25,
     "metadata": {},
     "output_type": "execute_result"
    }
   ],
   "source": [
    "x_train.shape"
   ]
  },
  {
   "cell_type": "code",
   "execution_count": 26,
   "id": "5ddabace",
   "metadata": {},
   "outputs": [
    {
     "data": {
      "text/plain": [
       "(2000, 7)"
      ]
     },
     "execution_count": 26,
     "metadata": {},
     "output_type": "execute_result"
    }
   ],
   "source": [
    "x_test.shape"
   ]
  },
  {
   "cell_type": "code",
   "execution_count": 27,
   "id": "35ca50ac",
   "metadata": {},
   "outputs": [
    {
     "data": {
      "text/plain": [
       "(8000,)"
      ]
     },
     "execution_count": 27,
     "metadata": {},
     "output_type": "execute_result"
    }
   ],
   "source": [
    "y_train.shape"
   ]
  },
  {
   "cell_type": "code",
   "execution_count": 28,
   "id": "d376eba4",
   "metadata": {},
   "outputs": [
    {
     "data": {
      "text/plain": [
       "(2000,)"
      ]
     },
     "execution_count": 28,
     "metadata": {},
     "output_type": "execute_result"
    }
   ],
   "source": [
    "y_test.shape "
   ]
  },
  {
   "cell_type": "code",
   "execution_count": 29,
   "id": "288c5b59",
   "metadata": {},
   "outputs": [
    {
     "data": {
      "text/html": [
       "<div>\n",
       "<style scoped>\n",
       "    .dataframe tbody tr th:only-of-type {\n",
       "        vertical-align: middle;\n",
       "    }\n",
       "\n",
       "    .dataframe tbody tr th {\n",
       "        vertical-align: top;\n",
       "    }\n",
       "\n",
       "    .dataframe thead th {\n",
       "        text-align: right;\n",
       "    }\n",
       "</style>\n",
       "<table border=\"1\" class=\"dataframe\">\n",
       "  <thead>\n",
       "    <tr style=\"text-align: right;\">\n",
       "      <th></th>\n",
       "      <th>Daily Time Spent on Site</th>\n",
       "      <th>Age</th>\n",
       "      <th>Area Income</th>\n",
       "      <th>Daily Internet Usage</th>\n",
       "      <th>City</th>\n",
       "      <th>Gender</th>\n",
       "      <th>Country</th>\n",
       "    </tr>\n",
       "  </thead>\n",
       "  <tbody>\n",
       "    <tr>\n",
       "      <th>count</th>\n",
       "      <td>8000.00</td>\n",
       "      <td>8000.00</td>\n",
       "      <td>8000.00</td>\n",
       "      <td>8000.00</td>\n",
       "      <td>8000.00</td>\n",
       "      <td>8000.00</td>\n",
       "      <td>8000.00</td>\n",
       "    </tr>\n",
       "    <tr>\n",
       "      <th>mean</th>\n",
       "      <td>61.75</td>\n",
       "      <td>36.00</td>\n",
       "      <td>53755.70</td>\n",
       "      <td>177.54</td>\n",
       "      <td>290.26</td>\n",
       "      <td>0.46</td>\n",
       "      <td>95.23</td>\n",
       "    </tr>\n",
       "    <tr>\n",
       "      <th>std</th>\n",
       "      <td>15.74</td>\n",
       "      <td>8.56</td>\n",
       "      <td>13385.32</td>\n",
       "      <td>40.80</td>\n",
       "      <td>154.87</td>\n",
       "      <td>0.50</td>\n",
       "      <td>64.86</td>\n",
       "    </tr>\n",
       "    <tr>\n",
       "      <th>min</th>\n",
       "      <td>32.60</td>\n",
       "      <td>19.00</td>\n",
       "      <td>13996.50</td>\n",
       "      <td>105.22</td>\n",
       "      <td>0.00</td>\n",
       "      <td>0.00</td>\n",
       "      <td>0.00</td>\n",
       "    </tr>\n",
       "    <tr>\n",
       "      <th>25%</th>\n",
       "      <td>48.86</td>\n",
       "      <td>29.00</td>\n",
       "      <td>43974.49</td>\n",
       "      <td>140.15</td>\n",
       "      <td>155.00</td>\n",
       "      <td>0.00</td>\n",
       "      <td>35.00</td>\n",
       "    </tr>\n",
       "    <tr>\n",
       "      <th>50%</th>\n",
       "      <td>59.59</td>\n",
       "      <td>35.00</td>\n",
       "      <td>56180.93</td>\n",
       "      <td>178.92</td>\n",
       "      <td>285.00</td>\n",
       "      <td>0.00</td>\n",
       "      <td>88.00</td>\n",
       "    </tr>\n",
       "    <tr>\n",
       "      <th>75%</th>\n",
       "      <td>76.81</td>\n",
       "      <td>42.00</td>\n",
       "      <td>61840.26</td>\n",
       "      <td>212.38</td>\n",
       "      <td>436.00</td>\n",
       "      <td>1.00</td>\n",
       "      <td>157.00</td>\n",
       "    </tr>\n",
       "    <tr>\n",
       "      <th>max</th>\n",
       "      <td>90.97</td>\n",
       "      <td>60.00</td>\n",
       "      <td>79332.33</td>\n",
       "      <td>269.96</td>\n",
       "      <td>520.00</td>\n",
       "      <td>1.00</td>\n",
       "      <td>206.00</td>\n",
       "    </tr>\n",
       "  </tbody>\n",
       "</table>\n",
       "</div>"
      ],
      "text/plain": [
       "       Daily Time Spent on Site      Age  Area Income  Daily Internet Usage  \\\n",
       "count                   8000.00  8000.00      8000.00               8000.00   \n",
       "mean                      61.75    36.00     53755.70                177.54   \n",
       "std                       15.74     8.56     13385.32                 40.80   \n",
       "min                       32.60    19.00     13996.50                105.22   \n",
       "25%                       48.86    29.00     43974.49                140.15   \n",
       "50%                       59.59    35.00     56180.93                178.92   \n",
       "75%                       76.81    42.00     61840.26                212.38   \n",
       "max                       90.97    60.00     79332.33                269.96   \n",
       "\n",
       "          City   Gender  Country  \n",
       "count  8000.00  8000.00  8000.00  \n",
       "mean    290.26     0.46    95.23  \n",
       "std     154.87     0.50    64.86  \n",
       "min       0.00     0.00     0.00  \n",
       "25%     155.00     0.00    35.00  \n",
       "50%     285.00     0.00    88.00  \n",
       "75%     436.00     1.00   157.00  \n",
       "max     520.00     1.00   206.00  "
      ]
     },
     "execution_count": 29,
     "metadata": {},
     "output_type": "execute_result"
    }
   ],
   "source": [
    "np.round(x_train.describe() , 2) "
   ]
  },
  {
   "cell_type": "code",
   "execution_count": 30,
   "id": "a5b033bc",
   "metadata": {},
   "outputs": [],
   "source": [
    "from sklearn.preprocessing import StandardScaler "
   ]
  },
  {
   "cell_type": "code",
   "execution_count": 31,
   "id": "55e3c6b0",
   "metadata": {},
   "outputs": [],
   "source": [
    "sc = StandardScaler() "
   ]
  },
  {
   "cell_type": "code",
   "execution_count": 32,
   "id": "3d5c8825",
   "metadata": {},
   "outputs": [],
   "source": [
    "x_train_scaled = sc.fit_transform(x_train) \n",
    "x_test_scaled = sc.transform(x_test) "
   ]
  },
  {
   "cell_type": "code",
   "execution_count": 33,
   "id": "ad251d6f",
   "metadata": {},
   "outputs": [
    {
     "data": {
      "text/plain": [
       "array([[ 0.78819549, -0.58442525,  0.44244848, ..., -0.13725835,\n",
       "         1.07884971, -1.23705392],\n",
       "       [ 0.7024133 , -0.81813108,  1.50586358, ..., -1.71286226,\n",
       "         1.07884971,  1.46129017],\n",
       "       [-1.25214972,  0.46725099, -1.04835784, ...,  0.23081306,\n",
       "        -0.92691317, -1.05202461],\n",
       "       ...,\n",
       "       [ 1.08620916, -0.11701359, -2.10331389, ...,  1.45771774,\n",
       "        -0.92691317,  1.49212839],\n",
       "       [-0.14206467, -0.70127816,  0.30792777, ...,  1.45126035,\n",
       "         1.07884971, -1.15995838],\n",
       "       [-0.17129416, -0.35071942, -0.07616032, ..., -1.66120311,\n",
       "         1.07884971,  1.61548126]])"
      ]
     },
     "execution_count": 33,
     "metadata": {},
     "output_type": "execute_result"
    }
   ],
   "source": [
    "x_train_scaled "
   ]
  },
  {
   "cell_type": "code",
   "execution_count": 34,
   "id": "004d5d88",
   "metadata": {},
   "outputs": [],
   "source": [
    "x_train_new = pd.DataFrame(x_train_scaled , columns = x_train.columns) "
   ]
  },
  {
   "cell_type": "code",
   "execution_count": 35,
   "id": "f8369141",
   "metadata": {},
   "outputs": [
    {
     "data": {
      "text/html": [
       "<div>\n",
       "<style scoped>\n",
       "    .dataframe tbody tr th:only-of-type {\n",
       "        vertical-align: middle;\n",
       "    }\n",
       "\n",
       "    .dataframe tbody tr th {\n",
       "        vertical-align: top;\n",
       "    }\n",
       "\n",
       "    .dataframe thead th {\n",
       "        text-align: right;\n",
       "    }\n",
       "</style>\n",
       "<table border=\"1\" class=\"dataframe\">\n",
       "  <thead>\n",
       "    <tr style=\"text-align: right;\">\n",
       "      <th></th>\n",
       "      <th>Daily Time Spent on Site</th>\n",
       "      <th>Age</th>\n",
       "      <th>Area Income</th>\n",
       "      <th>Daily Internet Usage</th>\n",
       "      <th>City</th>\n",
       "      <th>Gender</th>\n",
       "      <th>Country</th>\n",
       "    </tr>\n",
       "  </thead>\n",
       "  <tbody>\n",
       "    <tr>\n",
       "      <th>0</th>\n",
       "      <td>0.788195</td>\n",
       "      <td>-0.584425</td>\n",
       "      <td>0.442448</td>\n",
       "      <td>0.726420</td>\n",
       "      <td>-0.137258</td>\n",
       "      <td>1.078850</td>\n",
       "      <td>-1.237054</td>\n",
       "    </tr>\n",
       "    <tr>\n",
       "      <th>1</th>\n",
       "      <td>0.702413</td>\n",
       "      <td>-0.818131</td>\n",
       "      <td>1.505864</td>\n",
       "      <td>0.445000</td>\n",
       "      <td>-1.712862</td>\n",
       "      <td>1.078850</td>\n",
       "      <td>1.461290</td>\n",
       "    </tr>\n",
       "    <tr>\n",
       "      <th>2</th>\n",
       "      <td>-1.252150</td>\n",
       "      <td>0.467251</td>\n",
       "      <td>-1.048358</td>\n",
       "      <td>-0.300713</td>\n",
       "      <td>0.230813</td>\n",
       "      <td>-0.926913</td>\n",
       "      <td>-1.052025</td>\n",
       "    </tr>\n",
       "    <tr>\n",
       "      <th>3</th>\n",
       "      <td>0.281763</td>\n",
       "      <td>1.518927</td>\n",
       "      <td>-0.606911</td>\n",
       "      <td>-1.304559</td>\n",
       "      <td>-0.628020</td>\n",
       "      <td>-0.926913</td>\n",
       "      <td>-1.098282</td>\n",
       "    </tr>\n",
       "    <tr>\n",
       "      <th>4</th>\n",
       "      <td>-1.091388</td>\n",
       "      <td>-0.000161</td>\n",
       "      <td>-0.233658</td>\n",
       "      <td>-0.211238</td>\n",
       "      <td>-1.525598</td>\n",
       "      <td>1.078850</td>\n",
       "      <td>1.122070</td>\n",
       "    </tr>\n",
       "    <tr>\n",
       "      <th>...</th>\n",
       "      <td>...</td>\n",
       "      <td>...</td>\n",
       "      <td>...</td>\n",
       "      <td>...</td>\n",
       "      <td>...</td>\n",
       "      <td>...</td>\n",
       "      <td>...</td>\n",
       "    </tr>\n",
       "    <tr>\n",
       "      <th>7995</th>\n",
       "      <td>1.291451</td>\n",
       "      <td>0.584104</td>\n",
       "      <td>0.305651</td>\n",
       "      <td>-1.253815</td>\n",
       "      <td>1.251081</td>\n",
       "      <td>-0.926913</td>\n",
       "      <td>0.829107</td>\n",
       "    </tr>\n",
       "    <tr>\n",
       "      <th>7996</th>\n",
       "      <td>1.731800</td>\n",
       "      <td>-0.000161</td>\n",
       "      <td>-0.233658</td>\n",
       "      <td>-1.253815</td>\n",
       "      <td>-0.272864</td>\n",
       "      <td>1.078850</td>\n",
       "      <td>1.415033</td>\n",
       "    </tr>\n",
       "    <tr>\n",
       "      <th>7997</th>\n",
       "      <td>1.086209</td>\n",
       "      <td>-0.117014</td>\n",
       "      <td>-2.103314</td>\n",
       "      <td>1.454484</td>\n",
       "      <td>1.457718</td>\n",
       "      <td>-0.926913</td>\n",
       "      <td>1.492128</td>\n",
       "    </tr>\n",
       "    <tr>\n",
       "      <th>7998</th>\n",
       "      <td>-0.142065</td>\n",
       "      <td>-0.701278</td>\n",
       "      <td>0.307928</td>\n",
       "      <td>-0.951804</td>\n",
       "      <td>1.451260</td>\n",
       "      <td>1.078850</td>\n",
       "      <td>-1.159958</td>\n",
       "    </tr>\n",
       "    <tr>\n",
       "      <th>7999</th>\n",
       "      <td>-0.171294</td>\n",
       "      <td>-0.350719</td>\n",
       "      <td>-0.076160</td>\n",
       "      <td>-1.579115</td>\n",
       "      <td>-1.661203</td>\n",
       "      <td>1.078850</td>\n",
       "      <td>1.615481</td>\n",
       "    </tr>\n",
       "  </tbody>\n",
       "</table>\n",
       "<p>8000 rows × 7 columns</p>\n",
       "</div>"
      ],
      "text/plain": [
       "      Daily Time Spent on Site       Age  Area Income  Daily Internet Usage  \\\n",
       "0                     0.788195 -0.584425     0.442448              0.726420   \n",
       "1                     0.702413 -0.818131     1.505864              0.445000   \n",
       "2                    -1.252150  0.467251    -1.048358             -0.300713   \n",
       "3                     0.281763  1.518927    -0.606911             -1.304559   \n",
       "4                    -1.091388 -0.000161    -0.233658             -0.211238   \n",
       "...                        ...       ...          ...                   ...   \n",
       "7995                  1.291451  0.584104     0.305651             -1.253815   \n",
       "7996                  1.731800 -0.000161    -0.233658             -1.253815   \n",
       "7997                  1.086209 -0.117014    -2.103314              1.454484   \n",
       "7998                 -0.142065 -0.701278     0.307928             -0.951804   \n",
       "7999                 -0.171294 -0.350719    -0.076160             -1.579115   \n",
       "\n",
       "          City    Gender   Country  \n",
       "0    -0.137258  1.078850 -1.237054  \n",
       "1    -1.712862  1.078850  1.461290  \n",
       "2     0.230813 -0.926913 -1.052025  \n",
       "3    -0.628020 -0.926913 -1.098282  \n",
       "4    -1.525598  1.078850  1.122070  \n",
       "...        ...       ...       ...  \n",
       "7995  1.251081 -0.926913  0.829107  \n",
       "7996 -0.272864  1.078850  1.415033  \n",
       "7997  1.457718 -0.926913  1.492128  \n",
       "7998  1.451260  1.078850 -1.159958  \n",
       "7999 -1.661203  1.078850  1.615481  \n",
       "\n",
       "[8000 rows x 7 columns]"
      ]
     },
     "execution_count": 35,
     "metadata": {},
     "output_type": "execute_result"
    }
   ],
   "source": [
    "x_train_new"
   ]
  },
  {
   "cell_type": "code",
   "execution_count": 36,
   "id": "633b243f",
   "metadata": {},
   "outputs": [
    {
     "data": {
      "text/html": [
       "<div>\n",
       "<style scoped>\n",
       "    .dataframe tbody tr th:only-of-type {\n",
       "        vertical-align: middle;\n",
       "    }\n",
       "\n",
       "    .dataframe tbody tr th {\n",
       "        vertical-align: top;\n",
       "    }\n",
       "\n",
       "    .dataframe thead th {\n",
       "        text-align: right;\n",
       "    }\n",
       "</style>\n",
       "<table border=\"1\" class=\"dataframe\">\n",
       "  <thead>\n",
       "    <tr style=\"text-align: right;\">\n",
       "      <th></th>\n",
       "      <th>Daily Time Spent on Site</th>\n",
       "      <th>Age</th>\n",
       "      <th>Area Income</th>\n",
       "      <th>Daily Internet Usage</th>\n",
       "      <th>City</th>\n",
       "      <th>Gender</th>\n",
       "      <th>Country</th>\n",
       "    </tr>\n",
       "  </thead>\n",
       "  <tbody>\n",
       "    <tr>\n",
       "      <th>count</th>\n",
       "      <td>8000.0</td>\n",
       "      <td>8000.0</td>\n",
       "      <td>8000.0</td>\n",
       "      <td>8000.0</td>\n",
       "      <td>8000.0</td>\n",
       "      <td>8000.0</td>\n",
       "      <td>8000.0</td>\n",
       "    </tr>\n",
       "    <tr>\n",
       "      <th>mean</th>\n",
       "      <td>-0.0</td>\n",
       "      <td>-0.0</td>\n",
       "      <td>-0.0</td>\n",
       "      <td>0.0</td>\n",
       "      <td>0.0</td>\n",
       "      <td>-0.0</td>\n",
       "      <td>0.0</td>\n",
       "    </tr>\n",
       "    <tr>\n",
       "      <th>std</th>\n",
       "      <td>1.0</td>\n",
       "      <td>1.0</td>\n",
       "      <td>1.0</td>\n",
       "      <td>1.0</td>\n",
       "      <td>1.0</td>\n",
       "      <td>1.0</td>\n",
       "      <td>1.0</td>\n",
       "    </tr>\n",
       "    <tr>\n",
       "      <th>min</th>\n",
       "      <td>-1.9</td>\n",
       "      <td>-2.0</td>\n",
       "      <td>-3.0</td>\n",
       "      <td>-1.8</td>\n",
       "      <td>-1.9</td>\n",
       "      <td>-0.9</td>\n",
       "      <td>-1.5</td>\n",
       "    </tr>\n",
       "    <tr>\n",
       "      <th>25%</th>\n",
       "      <td>-0.8</td>\n",
       "      <td>-0.8</td>\n",
       "      <td>-0.7</td>\n",
       "      <td>-0.9</td>\n",
       "      <td>-0.9</td>\n",
       "      <td>-0.9</td>\n",
       "      <td>-0.9</td>\n",
       "    </tr>\n",
       "    <tr>\n",
       "      <th>50%</th>\n",
       "      <td>-0.1</td>\n",
       "      <td>-0.1</td>\n",
       "      <td>0.2</td>\n",
       "      <td>0.0</td>\n",
       "      <td>-0.0</td>\n",
       "      <td>-0.9</td>\n",
       "      <td>-0.1</td>\n",
       "    </tr>\n",
       "    <tr>\n",
       "      <th>75%</th>\n",
       "      <td>1.0</td>\n",
       "      <td>0.7</td>\n",
       "      <td>0.6</td>\n",
       "      <td>0.9</td>\n",
       "      <td>0.9</td>\n",
       "      <td>1.1</td>\n",
       "      <td>1.0</td>\n",
       "    </tr>\n",
       "    <tr>\n",
       "      <th>max</th>\n",
       "      <td>1.9</td>\n",
       "      <td>2.8</td>\n",
       "      <td>1.9</td>\n",
       "      <td>2.3</td>\n",
       "      <td>1.5</td>\n",
       "      <td>1.1</td>\n",
       "      <td>1.7</td>\n",
       "    </tr>\n",
       "  </tbody>\n",
       "</table>\n",
       "</div>"
      ],
      "text/plain": [
       "       Daily Time Spent on Site     Age  Area Income  Daily Internet Usage  \\\n",
       "count                    8000.0  8000.0       8000.0                8000.0   \n",
       "mean                       -0.0    -0.0         -0.0                   0.0   \n",
       "std                         1.0     1.0          1.0                   1.0   \n",
       "min                        -1.9    -2.0         -3.0                  -1.8   \n",
       "25%                        -0.8    -0.8         -0.7                  -0.9   \n",
       "50%                        -0.1    -0.1          0.2                   0.0   \n",
       "75%                         1.0     0.7          0.6                   0.9   \n",
       "max                         1.9     2.8          1.9                   2.3   \n",
       "\n",
       "         City  Gender  Country  \n",
       "count  8000.0  8000.0   8000.0  \n",
       "mean      0.0    -0.0      0.0  \n",
       "std       1.0     1.0      1.0  \n",
       "min      -1.9    -0.9     -1.5  \n",
       "25%      -0.9    -0.9     -0.9  \n",
       "50%      -0.0    -0.9     -0.1  \n",
       "75%       0.9     1.1      1.0  \n",
       "max       1.5     1.1      1.7  "
      ]
     },
     "execution_count": 36,
     "metadata": {},
     "output_type": "execute_result"
    }
   ],
   "source": [
    "np.round(x_train_new.describe() , 1) "
   ]
  },
  {
   "cell_type": "code",
   "execution_count": 37,
   "id": "839fa718",
   "metadata": {},
   "outputs": [],
   "source": [
    "# df['City']"
   ]
  },
  {
   "cell_type": "code",
   "execution_count": null,
   "id": "f0c1da62",
   "metadata": {},
   "outputs": [],
   "source": []
  }
 ],
 "metadata": {
  "kernelspec": {
   "display_name": "Python 3 (ipykernel)",
   "language": "python",
   "name": "python3"
  },
  "language_info": {
   "codemirror_mode": {
    "name": "ipython",
    "version": 3
   },
   "file_extension": ".py",
   "mimetype": "text/x-python",
   "name": "python",
   "nbconvert_exporter": "python",
   "pygments_lexer": "ipython3",
   "version": "3.9.12"
  }
 },
 "nbformat": 4,
 "nbformat_minor": 5
}
