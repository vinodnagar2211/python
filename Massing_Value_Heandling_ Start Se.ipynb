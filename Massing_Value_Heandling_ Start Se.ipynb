{
 "cells": [
  {
   "cell_type": "code",
   "execution_count": null,
   "id": "1ea04a38",
   "metadata": {},
   "outputs": [],
   "source": [
    "# 1 Missing Value Hadling\n",
    "# 2 Eccoder\n",
    "# 3 Outlier\n",
    "# 4 Scaling (Standardization),(MinMax Scaling)\n",
    "# 5 Future Construction (Old two colunm Ya Three Columns Se 1 New Columns Creat Karna)\n",
    "# 6 Future Selection (All Futures Se Most Future Lena Karna)\n",
    "# 7 Future Extraction (Old Future Ko Delet Kar Ke Un Ke Sthan Par New Future Creat Karna)"
   ]
  },
  {
   "cell_type": "code",
   "execution_count": 2,
   "id": "14f28a89",
   "metadata": {},
   "outputs": [],
   "source": [
    "import numpy as np\n",
    "import pandas as pd\n",
    "import matplotlib.pyplot as plt\n",
    "import seaborn as sns"
   ]
  },
  {
   "cell_type": "code",
   "execution_count": null,
   "id": "6a03afdd",
   "metadata": {},
   "outputs": [],
   "source": []
  },
  {
   "cell_type": "markdown",
   "id": "79bf9f36",
   "metadata": {},
   "source": [
    "# ====================massing Values Handling==============="
   ]
  },
  {
   "cell_type": "code",
   "execution_count": null,
   "id": "f799b2b5",
   "metadata": {},
   "outputs": [],
   "source": [
    "# Kisi Columns me Numerical and Categorical Dono type ke Data Hone Par"
   ]
  },
  {
   "cell_type": "code",
   "execution_count": null,
   "id": "b0936f43",
   "metadata": {},
   "outputs": [],
   "source": [
    "df['columns_Name'].unique()"
   ]
  },
  {
   "cell_type": "code",
   "execution_count": null,
   "id": "ad824631",
   "metadata": {},
   "outputs": [],
   "source": [
    "# Char Making \n",
    "fig = df['columns_Name'].value_counts().plot.bar()\n",
    "fig.set_title('Passengers travelling with')"
   ]
  },
  {
   "cell_type": "code",
   "execution_count": null,
   "id": "8868f9c7",
   "metadata": {},
   "outputs": [],
   "source": [
    "# Columns me Se Numerical and Catagorical Data Alag-Alg Karna==========NOte:-Numerical and Catogorical Data Ek Columns me nhi ho\n",
    "# extract numerical part\n",
    "df['88888'] = pd.to_numeric(df[\"55555\"],errors='coerce',downcast='integer')\n",
    "\n",
    "# extract categorical part\n",
    "df['number_categorical'] = np.where(df['88888'].isnull(),df['55555'],np.nan)\n",
    "df.head()"
   ]
  },
  {
   "cell_type": "code",
   "execution_count": null,
   "id": "161c1d63",
   "metadata": {},
   "outputs": [],
   "source": []
  },
  {
   "cell_type": "code",
   "execution_count": null,
   "id": "601c47e8",
   "metadata": {},
   "outputs": [],
   "source": []
  },
  {
   "cell_type": "code",
   "execution_count": null,
   "id": "633ec9b8",
   "metadata": {},
   "outputs": [],
   "source": [
    "# Kisi Columns ke Ek hi Columns me Numerical and Categorical Dono Data Hone par\n",
    "df['Columns_Name'].unique()\n",
    "\n",
    "\n",
    "df['cabin_num'] = df['Cabin'].str.extract('(\\d+)') # captures numerical part\n",
    "df['cabin_cat'] = df['Cabin'].str[0] # captures the first letter\n",
    "print(df.head())\n",
    "\n",
    "df['cabin_cat'].value_counts().plot(kind='bar')\n",
    "\n",
    "\n",
    "=========================================================================================================\n",
    "\n",
    "\n",
    "# Kisi Columns ke Ek hi Columns me Numerical and Categorical Dono Data Hone par\n",
    "# extract the last bit of ticket as number\n",
    "df['ticket_num'] = df['Ticket'].apply(lambda s: s.split()[-1])\n",
    "df['ticket_num'] = pd.to_numeric(df['ticket_num'],\n",
    "                                   errors='coerce',\n",
    "                                   downcast='integer')\n",
    "\n",
    "# extract the first part of ticket as category\n",
    "df['ticket_cat'] = df['Ticket'].apply(lambda s: s.split()[0])\n",
    "df['ticket_cat'] = np.where(df['ticket_cat'].str.isdigit(), np.nan,\n",
    "                              df['ticket_cat'])\n",
    "\n",
    "df.head(20)"
   ]
  },
  {
   "cell_type": "code",
   "execution_count": null,
   "id": "90866c48",
   "metadata": {},
   "outputs": [],
   "source": []
  },
  {
   "cell_type": "markdown",
   "id": "9264eff7",
   "metadata": {},
   "source": [
    "# ========Massing Rwo ko Hatan 5% se Cun value wale ko========="
   ]
  },
  {
   "cell_type": "code",
   "execution_count": null,
   "id": "e6396833",
   "metadata": {},
   "outputs": [],
   "source": [
    "# Data me Missing Value Ka Precent Dekhana\n",
    "df.isnull().mean()*100\n",
    "\n",
    "# Data set me se Kisi bi ek % se cum % Ke Columuns Ko Data Set me se Nikal Na\n",
    "cols = [var for var in df.columns if df[var].isnull().mean() < 0.05 and df[var].isnull().mean() > 0]\n",
    "cols\n",
    "\n",
    "# Bache hue Data ka Precent\n",
    "len(df[cols].dropna()) / len(df)\n",
    "\n",
    "# Old Data and New Data Shape\n",
    "new_df = df[cols].dropna()\n",
    "df.shape, new_df.shape"
   ]
  },
  {
   "cell_type": "code",
   "execution_count": null,
   "id": "85d3f8c1",
   "metadata": {},
   "outputs": [],
   "source": [
    "fig = plt.figure()\n",
    "ax = fig.add_subplot(111)\n",
    "\n",
    "# original data\n",
    "df['training_hours'].hist(bins=50, ax=ax, density=True, color='red')\n",
    "\n",
    "# data after cca, the argument alpha makes the color transparent, so we can\n",
    "# see the overlay of the 2 distributions\n",
    "new_df['training_hours'].hist(bins=50, ax=ax, color='green', density=True, alpha=0.8)"
   ]
  },
  {
   "cell_type": "code",
   "execution_count": null,
   "id": "ae174b8a",
   "metadata": {},
   "outputs": [],
   "source": [
    "fig = plt.figure()\n",
    "ax = fig.add_subplot(111)\n",
    "\n",
    "# original data\n",
    "df['training_hours'].plot.density(color='red')\n",
    "\n",
    "# data after cca\n",
    "new_df['training_hours'].plot.density(color='green')"
   ]
  },
  {
   "cell_type": "code",
   "execution_count": null,
   "id": "240409d5",
   "metadata": {},
   "outputs": [],
   "source": [
    "fig = plt.figure()\n",
    "ax = fig.add_subplot(111)\n",
    "\n",
    "# original data\n",
    "df['city_development_index'].hist(bins=50, ax=ax, density=True, color='red')\n",
    "\n",
    "# data after cca, the argument alpha makes the color transparent, so we can\n",
    "# see the overlay of the 2 distributions\n",
    "new_df['city_development_index'].hist(bins=50, ax=ax, color='green', density=True, alpha=0.8)"
   ]
  },
  {
   "cell_type": "code",
   "execution_count": null,
   "id": "f7a13a96",
   "metadata": {},
   "outputs": [],
   "source": [
    "fig = plt.figure()\n",
    "ax = fig.add_subplot(111)\n",
    "\n",
    "# original data\n",
    "df['city_development_index'].plot.density(color='red')\n",
    "\n",
    "# data after cca\n",
    "new_df['city_development_index'].plot.density(color='green')"
   ]
  },
  {
   "cell_type": "code",
   "execution_count": null,
   "id": "f107bbb9",
   "metadata": {},
   "outputs": [],
   "source": [
    "fig = plt.figure()\n",
    "ax = fig.add_subplot(111)\n",
    "\n",
    "# original data\n",
    "df['experience'].hist(bins=50, ax=ax, density=True, color='red')\n",
    "\n",
    "# data after cca, the argument alpha makes the color transparent, so we can\n",
    "# see the overlay of the 2 distributions\n",
    "new_df['experience'].hist(bins=50, ax=ax, color='green', density=True, alpha=0.8)"
   ]
  },
  {
   "cell_type": "code",
   "execution_count": null,
   "id": "b6ae7939",
   "metadata": {},
   "outputs": [],
   "source": [
    "fig = plt.figure()\n",
    "ax = fig.add_subplot(111)\n",
    "\n",
    "# original data\n",
    "df['experience'].plot.density(color='red')\n",
    "\n",
    "# data after cca\n",
    "new_df['experience'].plot.density(color='green')"
   ]
  },
  {
   "cell_type": "code",
   "execution_count": null,
   "id": "c3d73c1f",
   "metadata": {},
   "outputs": [],
   "source": [
    "# Old and New Calumns Ka Ratio Nikalna\n",
    "temp = pd.concat([\n",
    "            # percentage of observations per category, original data\n",
    "            df['education_level'].value_counts() / len(df),\n",
    "\n",
    "            # percentage of observations per category, cca data\n",
    "            new_df['education_level'].value_counts() / len(new_df)\n",
    "        ],\n",
    "        axis=1)\n",
    "\n",
    "# add column names\n",
    "temp.columns = ['original', 'cca']\n",
    "\n",
    "temp"
   ]
  },
  {
   "cell_type": "markdown",
   "id": "759cc0ec",
   "metadata": {},
   "source": [
    "# ============mean.midian.mode se fill Karna===================="
   ]
  },
  {
   "cell_type": "code",
   "execution_count": null,
   "id": "9f51a4c4",
   "metadata": {},
   "outputs": [],
   "source": [
    "mean_fill = df[\"Columns_Name\"].fillna(df.mean())\n",
    "median_fill = df[\"Columns_Name\"].fillna(df.median())\n",
    "mode_fill = df[\"Columns_Name\"].fillna(df.mode())"
   ]
  },
  {
   "cell_type": "code",
   "execution_count": null,
   "id": "6bc4ba63",
   "metadata": {},
   "outputs": [],
   "source": [
    "# Variance Nikalna Befor Fill and After Fill Value\n",
    "\n",
    "df.[\"Columns_Name\"].var()\n",
    "New_df.[\"Columns_Name\"].var()"
   ]
  },
  {
   "cell_type": "code",
   "execution_count": null,
   "id": "79de25c2",
   "metadata": {},
   "outputs": [],
   "source": [
    "# Columns Ka Covariance find Karna\n",
    "df.cov()"
   ]
  },
  {
   "cell_type": "code",
   "execution_count": null,
   "id": "d31bde0b",
   "metadata": {},
   "outputs": [],
   "source": [
    "# Box plot Grapha\n",
    "df[[\"Before Fill_Columns_Nme\",\"After Fill_Calumns_Name\"]].boxplot()"
   ]
  },
  {
   "cell_type": "code",
   "execution_count": null,
   "id": "05623c98",
   "metadata": {},
   "outputs": [],
   "source": []
  },
  {
   "cell_type": "code",
   "execution_count": null,
   "id": "08ad0084",
   "metadata": {},
   "outputs": [],
   "source": []
  },
  {
   "cell_type": "code",
   "execution_count": null,
   "id": "c00c0a0e",
   "metadata": {},
   "outputs": [],
   "source": []
  },
  {
   "cell_type": "code",
   "execution_count": null,
   "id": "95e06a41",
   "metadata": {},
   "outputs": [],
   "source": []
  },
  {
   "cell_type": "code",
   "execution_count": null,
   "id": "575985f3",
   "metadata": {},
   "outputs": [],
   "source": []
  },
  {
   "cell_type": "code",
   "execution_count": null,
   "id": "e5657886",
   "metadata": {},
   "outputs": [],
   "source": []
  },
  {
   "cell_type": "code",
   "execution_count": null,
   "id": "920f35ee",
   "metadata": {},
   "outputs": [],
   "source": []
  },
  {
   "cell_type": "code",
   "execution_count": null,
   "id": "3da899c1",
   "metadata": {},
   "outputs": [],
   "source": []
  },
  {
   "cell_type": "code",
   "execution_count": null,
   "id": "c7185ab2",
   "metadata": {},
   "outputs": [],
   "source": []
  },
  {
   "cell_type": "code",
   "execution_count": null,
   "id": "a32ae9a3",
   "metadata": {},
   "outputs": [],
   "source": []
  },
  {
   "cell_type": "code",
   "execution_count": null,
   "id": "4c93ec97",
   "metadata": {},
   "outputs": [],
   "source": []
  },
  {
   "cell_type": "code",
   "execution_count": null,
   "id": "6deaa488",
   "metadata": {},
   "outputs": [],
   "source": []
  },
  {
   "cell_type": "code",
   "execution_count": null,
   "id": "139e6297",
   "metadata": {},
   "outputs": [],
   "source": []
  },
  {
   "cell_type": "markdown",
   "id": "5f95a8ab",
   "metadata": {},
   "source": [
    "# ===================Date and Time Handling======================"
   ]
  },
  {
   "cell_type": "code",
   "execution_count": null,
   "id": "72b1b6a8",
   "metadata": {},
   "outputs": [],
   "source": [
    "# Converting to datetime datatype\n",
    "date['date'] = pd.to_datetime(date['date'])"
   ]
  },
  {
   "cell_type": "code",
   "execution_count": null,
   "id": "c358549d",
   "metadata": {},
   "outputs": [],
   "source": [
    "# Converting to datetime datatype\n",
    "date['date'] = pd.to_datetime(date['date'])\n",
    "\n",
    "# Data wale columns me Se Kuch bi Extract Karna\n",
    "date['date_year'] = date['date'].dt.year/month/month_name()/day/dayofweek/day_name()/week/quarter\n",
    "# Date Column me Se Hun ye ye Nikal Sakte Hai :-->>[year/month/month_name()/day/dayofweek/day_name()/week/quarter]"
   ]
  },
  {
   "cell_type": "code",
   "execution_count": null,
   "id": "c637b5d0",
   "metadata": {},
   "outputs": [],
   "source": []
  },
  {
   "cell_type": "code",
   "execution_count": null,
   "id": "fc11acdf",
   "metadata": {},
   "outputs": [],
   "source": []
  },
  {
   "cell_type": "code",
   "execution_count": null,
   "id": "74a179e8",
   "metadata": {},
   "outputs": [],
   "source": []
  },
  {
   "cell_type": "code",
   "execution_count": null,
   "id": "c793a2b1",
   "metadata": {},
   "outputs": [],
   "source": []
  },
  {
   "cell_type": "code",
   "execution_count": null,
   "id": "fcc6e9ae",
   "metadata": {},
   "outputs": [],
   "source": []
  }
 ],
 "metadata": {
  "kernelspec": {
   "display_name": "Python 3 (ipykernel)",
   "language": "python",
   "name": "python3"
  },
  "language_info": {
   "codemirror_mode": {
    "name": "ipython",
    "version": 3
   },
   "file_extension": ".py",
   "mimetype": "text/x-python",
   "name": "python",
   "nbconvert_exporter": "python",
   "pygments_lexer": "ipython3",
   "version": "3.11.4"
  }
 },
 "nbformat": 4,
 "nbformat_minor": 5
}
