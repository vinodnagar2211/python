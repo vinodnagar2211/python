{
 "cells": [
  {
   "cell_type": "markdown",
   "id": "ec35cd33",
   "metadata": {},
   "source": [
    "# Question :  Apply for columns Transform \n",
    "    \n",
    "    1: LabelEcoder      ======  (has_covid)\n",
    "    2: OrdinalEncoder   ======   (gender)\n",
    "    3: OneHotEncoder    ======   ([\"cough\"],[\"city\"])"
   ]
  },
  {
   "cell_type": "code",
   "execution_count": null,
   "id": "498d082b",
   "metadata": {},
   "outputs": [],
   "source": []
  },
  {
   "cell_type": "code",
   "execution_count": 3,
   "id": "c292ae49",
   "metadata": {},
   "outputs": [],
   "source": [
    "import numpy as np\n",
    "import pandas as pd\n",
    "import matplotlib.pyplot as plt\n",
    "import seaborn as sns"
   ]
  },
  {
   "cell_type": "code",
   "execution_count": 4,
   "id": "d9967b74",
   "metadata": {},
   "outputs": [
    {
     "data": {
      "text/html": [
       "<div>\n",
       "<style scoped>\n",
       "    .dataframe tbody tr th:only-of-type {\n",
       "        vertical-align: middle;\n",
       "    }\n",
       "\n",
       "    .dataframe tbody tr th {\n",
       "        vertical-align: top;\n",
       "    }\n",
       "\n",
       "    .dataframe thead th {\n",
       "        text-align: right;\n",
       "    }\n",
       "</style>\n",
       "<table border=\"1\" class=\"dataframe\">\n",
       "  <thead>\n",
       "    <tr style=\"text-align: right;\">\n",
       "      <th></th>\n",
       "      <th>age</th>\n",
       "      <th>gender</th>\n",
       "      <th>fever</th>\n",
       "      <th>cough</th>\n",
       "      <th>city</th>\n",
       "      <th>has_covid</th>\n",
       "    </tr>\n",
       "  </thead>\n",
       "  <tbody>\n",
       "    <tr>\n",
       "      <th>0</th>\n",
       "      <td>60</td>\n",
       "      <td>Male</td>\n",
       "      <td>103.0</td>\n",
       "      <td>Mild</td>\n",
       "      <td>Kolkata</td>\n",
       "      <td>No</td>\n",
       "    </tr>\n",
       "    <tr>\n",
       "      <th>1</th>\n",
       "      <td>27</td>\n",
       "      <td>Male</td>\n",
       "      <td>100.0</td>\n",
       "      <td>Mild</td>\n",
       "      <td>Delhi</td>\n",
       "      <td>Yes</td>\n",
       "    </tr>\n",
       "  </tbody>\n",
       "</table>\n",
       "</div>"
      ],
      "text/plain": [
       "   age gender  fever cough     city has_covid\n",
       "0   60   Male  103.0  Mild  Kolkata        No\n",
       "1   27   Male  100.0  Mild    Delhi       Yes"
      ]
     },
     "execution_count": 4,
     "metadata": {},
     "output_type": "execute_result"
    }
   ],
   "source": [
    "\n",
    "c = pd.read_csv(\"C:\\\\Users\\\\HP\\\\Desktop\\\\Projects\\\\Project Data\\\\covid_toy.csv\")\n",
    "c.head(2)"
   ]
  },
  {
   "cell_type": "code",
   "execution_count": 5,
   "id": "22bb32a7",
   "metadata": {},
   "outputs": [
    {
     "name": "stdout",
     "output_type": "stream",
     "text": [
      "Feature Matrix (X):\n",
      "   age  gender  fever cough     city\n",
      "0   60    Male  103.0  Mild  Kolkata\n",
      "1   27    Male  100.0  Mild    Delhi\n",
      "2   42    Male  101.0  Mild    Delhi\n",
      "3   31  Female   98.0  Mild  Kolkata\n",
      "4   65  Female  101.0  Mild   Mumbai\n",
      "\n",
      "Target Vector (y):\n",
      "0     No\n",
      "1    Yes\n",
      "2     No\n",
      "3     No\n",
      "4     No\n",
      "Name: has_covid, dtype: object\n"
     ]
    }
   ],
   "source": [
    "# Assuming 'c' is your DataFrame\n",
    "x = c.iloc[:, :-1]  # Drop the last column to create the feature matrix\n",
    "y = c.iloc[:, -1]   # Select the last column as the target vector\n",
    "\n",
    "# Display X and y\n",
    "print(\"Feature Matrix (X):\")\n",
    "print(x.head())\n",
    "\n",
    "print(\"\\nTarget Vector (y):\")\n",
    "print(y.head())"
   ]
  },
  {
   "cell_type": "code",
   "execution_count": 6,
   "id": "e35ff884",
   "metadata": {},
   "outputs": [],
   "source": [
    "from sklearn.model_selection import train_test_split\n",
    "x_train, x_test, y_train, y_test = train_test_split(x, y, test_size=0.2, random_state=42)"
   ]
  },
  {
   "cell_type": "code",
   "execution_count": 7,
   "id": "5a5a4722",
   "metadata": {},
   "outputs": [
    {
     "ename": "TypeError",
     "evalue": "'OneHotEncoder' object is not subscriptable",
     "output_type": "error",
     "traceback": [
      "\u001b[1;31m---------------------------------------------------------------------------\u001b[0m",
      "\u001b[1;31mTypeError\u001b[0m                                 Traceback (most recent call last)",
      "Cell \u001b[1;32mIn[7], line 11\u001b[0m\n\u001b[0;32m      4\u001b[0m \u001b[38;5;28;01mfrom\u001b[39;00m \u001b[38;5;21;01msklearn\u001b[39;00m\u001b[38;5;21;01m.\u001b[39;00m\u001b[38;5;21;01mpreprocessing\u001b[39;00m \u001b[38;5;28;01mimport\u001b[39;00m LabelEncoder\n\u001b[0;32m      5\u001b[0m \u001b[38;5;28;01mfrom\u001b[39;00m \u001b[38;5;21;01msklearn\u001b[39;00m\u001b[38;5;21;01m.\u001b[39;00m\u001b[38;5;21;01mpreprocessing\u001b[39;00m \u001b[38;5;28;01mimport\u001b[39;00m StandardScaler\n\u001b[0;32m      7\u001b[0m ct \u001b[38;5;241m=\u001b[39m ColumnTransformer(transformers\u001b[38;5;241m=\u001b[39m[\n\u001b[0;32m      8\u001b[0m     (\u001b[38;5;124m\"\u001b[39m\u001b[38;5;124ma\u001b[39m\u001b[38;5;124m\"\u001b[39m),StandardScaler(),[\u001b[38;5;241m2\u001b[39m],\n\u001b[0;32m      9\u001b[0m     (\u001b[38;5;124m'\u001b[39m\u001b[38;5;124mb\u001b[39m\u001b[38;5;124m'\u001b[39m , LabelEncoder() , [\u001b[38;5;241m-\u001b[39m\u001b[38;5;241m1\u001b[39m]),\n\u001b[0;32m     10\u001b[0m     (\u001b[38;5;124m'\u001b[39m\u001b[38;5;124mc\u001b[39m\u001b[38;5;124m'\u001b[39m , OrdinalEncoder(categories \u001b[38;5;241m=\u001b[39m[[\u001b[38;5;241m0\u001b[39m,\u001b[38;5;241m1\u001b[39m]]),[\u001b[38;5;241m1\u001b[39m]),\n\u001b[1;32m---> 11\u001b[0m     (\u001b[38;5;124m'\u001b[39m\u001b[38;5;124md\u001b[39m\u001b[38;5;124m'\u001b[39m , OneHotEncoder(drop \u001b[38;5;241m=\u001b[39m \u001b[38;5;124m'\u001b[39m\u001b[38;5;124mfirst\u001b[39m\u001b[38;5;124m'\u001b[39m , sparse\u001b[38;5;241m=\u001b[39m \u001b[38;5;28;01mFalse\u001b[39;00m )[[\u001b[38;5;241m3\u001b[39m],[\u001b[38;5;241m4\u001b[39m]]),\n\u001b[0;32m     12\u001b[0m ],remainder \u001b[38;5;241m=\u001b[39m \u001b[38;5;124m'\u001b[39m\u001b[38;5;124mpassthrough\u001b[39m\u001b[38;5;124m'\u001b[39m)\n\u001b[0;32m     14\u001b[0m cff \u001b[38;5;241m=\u001b[39m ct\u001b[38;5;241m.\u001b[39mfit_transform(x_train)\n\u001b[0;32m     15\u001b[0m ctt \u001b[38;5;241m=\u001b[39m ct\u001b[38;5;241m.\u001b[39mtransform(x_test)\n",
      "\u001b[1;31mTypeError\u001b[0m: 'OneHotEncoder' object is not subscriptable"
     ]
    }
   ],
   "source": [
    "from sklearn.compose import ColumnTransformer\n",
    "from sklearn.preprocessing import OneHotEncoder\n",
    "from sklearn.preprocessing import OrdinalEncoder\n",
    "from sklearn.preprocessing import LabelEncoder\n",
    "from sklearn.preprocessing import StandardScaler\n",
    "\n",
    "ct = ColumnTransformer(transformers=[\n",
    "    (\"a\"),StandardScaler(),[2],\n",
    "    ('b' , LabelEncoder() , [-1]),\n",
    "    ('c' , OrdinalEncoder(categories =[[0,1]]),[1]),\n",
    "    ('d' , OneHotEncoder(drop = 'first' , sparse= False )[[3],[4]]),\n",
    "],remainder = 'passthrough')\n",
    "\n",
    "cff = ct.fit_transform(x_train)\n",
    "ctt = ct.transform(x_test)\n",
    "\n",
    "\n",
    "\n",
    "# ===============================================================================================================================\n",
    "# from sklearn.compose import ColumnTransformer\n",
    "# from sklearn.preprocessing import OneHotEncoder, OrdinalEncoder, LabelEncoder, StandardScaler\n",
    "\n",
    "# ct = ColumnTransformer(transformers=[\n",
    "#     ('a', StandardScaler(), [2]),  \n",
    "#     ('b', LabelEncoder(), [-1]),\n",
    "#     ('c', OrdinalEncoder(categories=[[0, 1]]), [1]),\n",
    "#     ('d', OneHotEncoder(drop='first', sparse=False), [3, 4])\n",
    "# ], remainder='passthrough')\n",
    "\n",
    "\n",
    "# cff = ct.fit_transform(x_train)\n",
    "# ctt = ct.transform(x_test)\n",
    "\n",
    "\n",
    "\n",
    "# =====================================================================\n",
    "\n",
    "# from sklearn.compose import ColumnTransformer\n",
    "# from sklearn.preprocessing import OneHotEncoder, OrdinalEncoder, LabelEncoder, StandardScaler\n",
    "\n",
    "# ct = ColumnTransformer(transformers=[\n",
    "#     (\"a\", StandardScaler(), [2]),\n",
    "#     (\"b\", LabelEncoder(), [-1]),\n",
    "#     (\"c\", OrdinalEncoder(categories=[[0,1]]), [1]),\n",
    "#     (\"d\", OneHotEncoder(drop='first', sparse=False), [3, 4]),\n",
    "# ], remainder='passthrough')\n",
    "\n",
    "\n",
    "# cff = ct.fit_transform(x_train)\n",
    "# cft = ct.transform(x_test)\n"
   ]
  },
  {
   "cell_type": "code",
   "execution_count": null,
   "id": "c4b2c8ef",
   "metadata": {},
   "outputs": [],
   "source": []
  }
 ],
 "metadata": {
  "kernelspec": {
   "display_name": "Python 3 (ipykernel)",
   "language": "python",
   "name": "python3"
  },
  "language_info": {
   "codemirror_mode": {
    "name": "ipython",
    "version": 3
   },
   "file_extension": ".py",
   "mimetype": "text/x-python",
   "name": "python",
   "nbconvert_exporter": "python",
   "pygments_lexer": "ipython3",
   "version": "3.11.4"
  }
 },
 "nbformat": 4,
 "nbformat_minor": 5
}
