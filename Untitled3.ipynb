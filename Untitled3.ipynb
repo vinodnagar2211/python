{
 "cells": [
  {
   "cell_type": "code",
   "execution_count": null,
   "id": "f225790b",
   "metadata": {},
   "outputs": [],
   "source": [
    "# ELU(Exponantial Linear Unite)\n",
    "The Exponential Linear Unit(ELU)activation function is a variant of the\n",
    "Rectified Linear Unit (ReLU)activation function that introduces a negative of\n",
    "the ReLU function,such as the'dying ReLU' provlem and the lack of\n",
    "activation for negative inputs.\n",
    "\n",
    "\n",
    "The ELU activation function is defined as follows\n",
    "ELU(x)=x if x >= 0.alpha*(exp(x)-1) if x < 0,"
   ]
  },
  {
   "cell_type": "code",
   "execution_count": 7,
   "id": "3ecfb338",
   "metadata": {},
   "outputs": [],
   "source": [
    "import numpy as np\n",
    "import pandas as pd\n",
    "import tensorflow as tf"
   ]
  },
  {
   "cell_type": "code",
   "execution_count": 8,
   "id": "65234fac",
   "metadata": {},
   "outputs": [],
   "source": [
    "input_data=[[1.0,2.0,-3.0,4.0]]\n",
    "target_data=[[1.0,2.0]]\n"
   ]
  },
  {
   "cell_type": "code",
   "execution_count": 9,
   "id": "152adc2d",
   "metadata": {},
   "outputs": [],
   "source": [
    "model=tf.keras.Sequential()"
   ]
  },
  {
   "cell_type": "code",
   "execution_count": 10,
   "id": "360a6c64",
   "metadata": {},
   "outputs": [],
   "source": [
    "model.add(tf.keras.layers.Dense(2))"
   ]
  },
  {
   "cell_type": "code",
   "execution_count": 11,
   "id": "613532cf",
   "metadata": {},
   "outputs": [
    {
     "data": {
      "text/plain": [
       "<bound method Model.summary of <keras.src.engine.sequential.Sequential object at 0x0000021194DF8ED0>>"
      ]
     },
     "execution_count": 11,
     "metadata": {},
     "output_type": "execute_result"
    }
   ],
   "source": [
    "model.summary"
   ]
  },
  {
   "cell_type": "code",
   "execution_count": 12,
   "id": "051cd62a",
   "metadata": {},
   "outputs": [],
   "source": [
    "model.compile(optimizer='adam',loss='mse')"
   ]
  },
  {
   "cell_type": "code",
   "execution_count": 13,
   "id": "6ac276e9",
   "metadata": {},
   "outputs": [
    {
     "data": {
      "text/plain": [
       "<keras.src.callbacks.History at 0x211974a7490>"
      ]
     },
     "execution_count": 13,
     "metadata": {},
     "output_type": "execute_result"
    }
   ],
   "source": [
    "model.fit(input_data,target_data,epochs=1000, verbose=0)"
   ]
  },
  {
   "cell_type": "code",
   "execution_count": 19,
   "id": "30448ec4",
   "metadata": {},
   "outputs": [
    {
     "ename": "NameError",
     "evalue": "name 'model_predict' is not defined",
     "output_type": "error",
     "traceback": [
      "\u001b[1;31m---------------------------------------------------------------------------\u001b[0m",
      "\u001b[1;31mNameError\u001b[0m                                 Traceback (most recent call last)",
      "Cell \u001b[1;32mIn[19], line 2\u001b[0m\n\u001b[0;32m      1\u001b[0m test_input\u001b[38;5;241m=\u001b[39m[[\u001b[38;5;241m1.0\u001b[39m,\u001b[38;5;241m2.0\u001b[39m,\u001b[38;5;241m3.0\u001b[39m,\u001b[38;5;241m4.0\u001b[39m]]\n\u001b[1;32m----> 2\u001b[0m predicted_output\u001b[38;5;241m=\u001b[39mmodel_predict(test_input)\n",
      "\u001b[1;31mNameError\u001b[0m: name 'model_predict' is not defined"
     ]
    }
   ],
   "source": [
    "test_input=[[1.0,2.0,3.0,4.0]]\n",
    "predicted_output=model_predict(test_input)"
   ]
  },
  {
   "cell_type": "code",
   "execution_count": null,
   "id": "ab423b8e",
   "metadata": {},
   "outputs": [],
   "source": []
  },
  {
   "cell_type": "code",
   "execution_count": null,
   "id": "4ed79b59",
   "metadata": {},
   "outputs": [],
   "source": []
  },
  {
   "cell_type": "code",
   "execution_count": null,
   "id": "76cade27",
   "metadata": {},
   "outputs": [],
   "source": []
  },
  {
   "cell_type": "code",
   "execution_count": null,
   "id": "b0244830",
   "metadata": {},
   "outputs": [],
   "source": []
  },
  {
   "cell_type": "code",
   "execution_count": 20,
   "id": "ad907758",
   "metadata": {},
   "outputs": [],
   "source": [
    "import numpy as np\n",
    "import pandas as pd\n",
    "import tensorflow as tf"
   ]
  },
  {
   "cell_type": "code",
   "execution_count": 21,
   "id": "31edff4a",
   "metadata": {},
   "outputs": [],
   "source": [
    "input_data=[[0.5,1.2,0.8],[2.1,0.3,1.5]]\n"
   ]
  },
  {
   "cell_type": "code",
   "execution_count": 22,
   "id": "7e9975f4",
   "metadata": {},
   "outputs": [],
   "source": [
    "model=tf.keras.Sequential()"
   ]
  },
  {
   "cell_type": "code",
   "execution_count": 24,
   "id": "188d823b",
   "metadata": {},
   "outputs": [],
   "source": [
    "model.add(tf.keras.layers.Dense(3, input_shape=(3,)))"
   ]
  },
  {
   "cell_type": "code",
   "execution_count": 25,
   "id": "168dcf38",
   "metadata": {},
   "outputs": [],
   "source": [
    "model.add(tf.keras.layers.Activation('softmax'))"
   ]
  },
  {
   "cell_type": "code",
   "execution_count": 26,
   "id": "0ff4a3cc",
   "metadata": {},
   "outputs": [
    {
     "data": {
      "text/plain": [
       "<bound method Model.summary of <keras.src.engine.sequential.Sequential object at 0x000002119757F210>>"
      ]
     },
     "execution_count": 26,
     "metadata": {},
     "output_type": "execute_result"
    }
   ],
   "source": [
    "model.summary"
   ]
  },
  {
   "cell_type": "code",
   "execution_count": 29,
   "id": "51fe1322",
   "metadata": {},
   "outputs": [
    {
     "name": "stdout",
     "output_type": "stream",
     "text": [
      "1/1 [==============================] - 0s 98ms/step\n",
      "softmax\n",
      "[[0.4990668  0.19995198 0.30098125]\n",
      " [0.2710729  0.02802764 0.70089954]]\n"
     ]
    }
   ],
   "source": [
    "softmax_output=model.predict(input_data)\n",
    "print('softmax')\n",
    "print(softmax_output)"
   ]
  },
  {
   "cell_type": "code",
   "execution_count": null,
   "id": "f617d2b6",
   "metadata": {},
   "outputs": [],
   "source": []
  },
  {
   "cell_type": "code",
   "execution_count": null,
   "id": "b7efd0d8",
   "metadata": {},
   "outputs": [],
   "source": []
  },
  {
   "cell_type": "code",
   "execution_count": null,
   "id": "d885a892",
   "metadata": {},
   "outputs": [],
   "source": [
    "complete Loss Functon\n",
    "Loss Functions are an intefral part of deep learing models as they quantify the discrepancy between predictd and actual values\n",
    "1\n",
    "Mean Squard Error(MSE)\n",
    "definition,Calculate the average squared difference between the predicted and target values.\n",
    "Formula:MSE=(1/n)*(y_true=y_pred)2,where n is the number of samples\n",
    "    Suitable for:Regression tasks where the target values are continuous\n",
    "        \n",
    "2\n",
    "Binary Cross Entropy Loss"
   ]
  },
  {
   "cell_type": "code",
   "execution_count": null,
   "id": "6d82a43b",
   "metadata": {},
   "outputs": [],
   "source": []
  },
  {
   "cell_type": "code",
   "execution_count": null,
   "id": "ba7017b9",
   "metadata": {},
   "outputs": [],
   "source": [
    "(3) Categorical Cross -Entropy Loss:\n",
    "    Definition:Calculates the cross_entropy loss for multi_class classification pro"
   ]
  },
  {
   "cell_type": "code",
   "execution_count": null,
   "id": "c224506f",
   "metadata": {},
   "outputs": [],
   "source": [
    "(4) Sparse categorical cross Entrooy loss\n",
    "definition Similar to cateforical cross_entroo,but the true labesl are given a intgres instead of one hot encoded vector\n",
    "forulas SCCe=(log(y_pred(true_label))),where true_label reqresents the integer class label\n",
    "Suitable for Multi_class classfication fasks with integer encoded labels\n"
   ]
  },
  {
   "cell_type": "code",
   "execution_count": null,
   "id": "04e72aac",
   "metadata": {},
   "outputs": [],
   "source": [
    "(5)Kullback-lebier Div(KL Divergence)Loss:\n",
    "Definition Me"
   ]
  },
  {
   "cell_type": "code",
   "execution_count": null,
   "id": "d8b9e29c",
   "metadata": {},
   "outputs": [],
   "source": [
    "(6) Huber Loss\n",
    "Defintion:Combines the characteristics of both MSE and MAE (Mean Absolute Error )to provide robustness aginst Outliers\n",
    "Formuls : Huber=(1/n)*(L),where L = 0.5 *(y_ture-y_pred)2 if ly_ture-_True-y_pred <= and L= * otherwise where is s"
   ]
  },
  {
   "cell_type": "code",
   "execution_count": null,
   "id": "18b997c3",
   "metadata": {},
   "outputs": [],
   "source": []
  },
  {
   "cell_type": "code",
   "execution_count": null,
   "id": "ef13ca99",
   "metadata": {},
   "outputs": [],
   "source": [
    "(8) Hinge Loss(SVM Loss)\n",
    "used in supoort vector machines (SVM )and measures the margin of classification error\n",
    "Formul:Kinge=max(0.1=y_true*p_pred),ehere y_true and y_preare the true and predict"
   ]
  },
  {
   "cell_type": "code",
   "execution_count": null,
   "id": "cf7b9ca2",
   "metadata": {},
   "outputs": [],
   "source": [
    "(11)Wasserstlen Loss (Earth Mover's Distance)\n",
    "    suitable for: Training GANs and learing the generator and discrimination models"
   ]
  },
  {
   "cell_type": "code",
   "execution_count": null,
   "id": "20537acc",
   "metadata": {},
   "outputs": [],
   "source": [
    "(12) Triplet Loss\n",
    "\n",
    "Suitable for:Face Rcogntion,imageretriveal and other laks nhre learing similarty metrics is inport "
   ]
  },
  {
   "cell_type": "code",
   "execution_count": null,
   "id": "40552e36",
   "metadata": {},
   "outputs": [],
   "source": [
    "(13) Dice Loss (Sorensen_Dice Loss)\n",
    "\n",
    "Evaluates the overlap betwen predicted true regroopns often used in segmentstion tabinary masks,repectively and is a small cinstant to aviod\n",
    "suitable:=inage Segmenttion Problems"
   ]
  },
  {
   "cell_type": "code",
   "execution_count": null,
   "id": "0eb8e0ef",
   "metadata": {},
   "outputs": [],
   "source": [
    "(14) Contrastive Loss\n",
    "\n",
    "suitable for Siamese Notworks and tasks the reqrie learint similarity or dissimilarity between samples"
   ]
  },
  {
   "cell_type": "code",
   "execution_count": null,
   "id": "a96be992",
   "metadata": {},
   "outputs": [],
   "source": []
  },
  {
   "cell_type": "code",
   "execution_count": null,
   "id": "e6d1cdac",
   "metadata": {},
   "outputs": [],
   "source": []
  }
 ],
 "metadata": {
  "kernelspec": {
   "display_name": "Python 3 (ipykernel)",
   "language": "python",
   "name": "python3"
  },
  "language_info": {
   "codemirror_mode": {
    "name": "ipython",
    "version": 3
   },
   "file_extension": ".py",
   "mimetype": "text/x-python",
   "name": "python",
   "nbconvert_exporter": "python",
   "pygments_lexer": "ipython3",
   "version": "3.11.4"
  }
 },
 "nbformat": 4,
 "nbformat_minor": 5
}
