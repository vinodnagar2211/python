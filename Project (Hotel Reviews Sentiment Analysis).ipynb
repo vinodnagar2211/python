{
 "cells": [
  {
   "cell_type": "code",
   "execution_count": 7,
   "id": "ba1ac848",
   "metadata": {},
   "outputs": [
    {
     "name": "stderr",
     "output_type": "stream",
     "text": [
      "[nltk_data] Downloading package vader_lexicon to\n",
      "[nltk_data]     C:\\Users\\HP\\AppData\\Roaming\\nltk_data...\n"
     ]
    },
    {
     "data": {
      "text/plain": [
       "True"
      ]
     },
     "execution_count": 7,
     "metadata": {},
     "output_type": "execute_result"
    }
   ],
   "source": [
    "import nltk\n",
    "nltk.download('vader_lexicon')"
   ]
  },
  {
   "cell_type": "markdown",
   "id": "057c8121",
   "metadata": {},
   "source": [
    "# Whenever we are looking for hotels for vacation or travel, we always prefer a hotel known for its services. The best way to find out whether a hotel is right for you or not is to find out what people are saying about the hotel who have stayed there before. Now it is very difficult to read the experience of each person who has given their opinion on the services of the hotel."
   ]
  },
  {
   "cell_type": "code",
   "execution_count": 1,
   "id": "e968d597",
   "metadata": {},
   "outputs": [],
   "source": [
    "import numpy as np\n",
    "import pandas as pd"
   ]
  },
  {
   "cell_type": "code",
   "execution_count": 3,
   "id": "e6139f8c",
   "metadata": {},
   "outputs": [
    {
     "data": {
      "text/html": [
       "<div>\n",
       "<style scoped>\n",
       "    .dataframe tbody tr th:only-of-type {\n",
       "        vertical-align: middle;\n",
       "    }\n",
       "\n",
       "    .dataframe tbody tr th {\n",
       "        vertical-align: top;\n",
       "    }\n",
       "\n",
       "    .dataframe thead th {\n",
       "        text-align: right;\n",
       "    }\n",
       "</style>\n",
       "<table border=\"1\" class=\"dataframe\">\n",
       "  <thead>\n",
       "    <tr style=\"text-align: right;\">\n",
       "      <th></th>\n",
       "      <th>Review</th>\n",
       "      <th>Rating</th>\n",
       "    </tr>\n",
       "  </thead>\n",
       "  <tbody>\n",
       "    <tr>\n",
       "      <th>0</th>\n",
       "      <td>nice hotel expensive parking got good deal sta...</td>\n",
       "      <td>4</td>\n",
       "    </tr>\n",
       "    <tr>\n",
       "      <th>1</th>\n",
       "      <td>ok nothing special charge diamond member hilto...</td>\n",
       "      <td>2</td>\n",
       "    </tr>\n",
       "    <tr>\n",
       "      <th>2</th>\n",
       "      <td>nice rooms not 4* experience hotel monaco seat...</td>\n",
       "      <td>3</td>\n",
       "    </tr>\n",
       "    <tr>\n",
       "      <th>3</th>\n",
       "      <td>unique, great stay, wonderful time hotel monac...</td>\n",
       "      <td>5</td>\n",
       "    </tr>\n",
       "    <tr>\n",
       "      <th>4</th>\n",
       "      <td>great stay great stay, went seahawk game aweso...</td>\n",
       "      <td>5</td>\n",
       "    </tr>\n",
       "  </tbody>\n",
       "</table>\n",
       "</div>"
      ],
      "text/plain": [
       "                                              Review  Rating\n",
       "0  nice hotel expensive parking got good deal sta...       4\n",
       "1  ok nothing special charge diamond member hilto...       2\n",
       "2  nice rooms not 4* experience hotel monaco seat...       3\n",
       "3  unique, great stay, wonderful time hotel monac...       5\n",
       "4  great stay great stay, went seahawk game aweso...       5"
      ]
     },
     "execution_count": 3,
     "metadata": {},
     "output_type": "execute_result"
    }
   ],
   "source": [
    "df = pd.read_csv(\"C:/Users/HP/hotel.csv\")\n",
    "df.head()"
   ]
  },
  {
   "cell_type": "code",
   "execution_count": 8,
   "id": "8e951ef4",
   "metadata": {},
   "outputs": [],
   "source": [
    "import seaborn as sns\n",
    "import matplotlib.pyplot as plt\n",
    "from nltk.sentiment.vader import SentimentIntensityAnalyzer\n",
    "sentiments = SentimentIntensityAnalyzer()"
   ]
  },
  {
   "cell_type": "code",
   "execution_count": 10,
   "id": "683d8386",
   "metadata": {},
   "outputs": [
    {
     "data": {
      "image/png": "[encoded data removed]",
      "text/plain": [
       "<Figure size 500x500 with 1 Axes>"
      ]
     },
     "metadata": {},
     "output_type": "display_data"
    }
   ],
   "source": [
    "ratings = df[\"Rating\"].value_counts()\n",
    "numbers = ratings.index\n",
    "quantity = ratings.values\n",
    "\n",
    "custom_colors = [\"skyblue\", \"yellowgreen\", 'tomato', \"blue\", \"red\"]\n",
    "plt.figure(figsize=(5,5))\n",
    "plt.pie(quantity, labels = numbers, colors = custom_colors)\n",
    "central_circle = plt.Circle((0,0), 0.5,color = 'white')\n",
    "fig = plt.gcf()\n",
    "fig.gca().add_artist(central_circle)\n",
    "plt.rc('font',size = 12)\n",
    "plt.title(\"Hotel Reviews Ratings\",fontsize= 20)\n",
    "plt.show()"
   ]
  },
  {
   "cell_type": "markdown",
   "id": "a80b5e6c",
   "metadata": {},
   "source": [
    "# It can be seen that most of the guests rated the hotel services with 5 stars and 4 stars. So According to the above ratings, we can say that most fo the guests are satisfied with the services of the hotel they stayed. Now let's move forward by analyzing the sentiments of hotel reviews. To analyze the sentiment of the hotel reviews, I'll add three additional columns to this dataset as Positive, Negative, and Neutral by calculating the sentiment scores of the reviews.\n"
   ]
  },
  {
   "cell_type": "code",
   "execution_count": 11,
   "id": "6869b4aa",
   "metadata": {},
   "outputs": [
    {
     "name": "stdout",
     "output_type": "stream",
     "text": [
      "                                              Review  Rating  Positive  \\\n",
      "0  nice hotel expensive parking got good deal sta...       4     0.285   \n",
      "1  ok nothing special charge diamond member hilto...       2     0.189   \n",
      "2  nice rooms not 4* experience hotel monaco seat...       3     0.219   \n",
      "3  unique, great stay, wonderful time hotel monac...       5     0.385   \n",
      "4  great stay great stay, went seahawk game aweso...       5     0.221   \n",
      "\n",
      "   Negative  Neutral  \n",
      "0     0.072    0.643  \n",
      "1     0.110    0.701  \n",
      "2     0.081    0.700  \n",
      "3     0.060    0.555  \n",
      "4     0.135    0.643  \n"
     ]
    }
   ],
   "source": [
    "sentiments = SentimentIntensityAnalyzer()\n",
    "df[\"Positive\"] = [sentiments.polarity_scores(i)[\"pos\"] for i in df[\"Review\"]]\n",
    "df[\"Negative\"] = [sentiments.polarity_scores(i)[\"neg\"] for i in df[\"Review\"]]\n",
    "df[\"Neutral\"] = [sentiments.polarity_scores(i)[\"neu\"] for i in df[\"Review\"]]\n",
    "print(df.head())"
   ]
  },
  {
   "cell_type": "markdown",
   "id": "7d590bdd",
   "metadata": {},
   "source": [
    "# According to the reviews, hotel guests seem satisfied with the services, now let's take at how most people think about hotel services based on the sentiment of their reviews:"
   ]
  },
  {
   "cell_type": "code",
   "execution_count": 13,
   "id": "a2b14892",
   "metadata": {},
   "outputs": [
    {
     "name": "stdout",
     "output_type": "stream",
     "text": [
      "Neutral\n"
     ]
    }
   ],
   "source": [
    "x =sum(df[\"Positive\"])\n",
    "y =sum(df[\"Negative\"])\n",
    "z =sum(df[\"Neutral\"])\n",
    "\n",
    "def sentiment_score(a,b,c):\n",
    "    if (a>b) and (a>c):\n",
    "        print(\"Positve😊 \")\n",
    "    elif (b>a) and (b>c):\n",
    "        print(\"Negative😞 \")\n",
    "    else:\n",
    "        print(\"Neutral\")\n",
    "sentiment_score(x,y,z)"
   ]
  },
  {
   "cell_type": "markdown",
   "id": "c834437f",
   "metadata": {},
   "source": [
    "# Thus, most people feel neutral about the hotel services. Now let's take a closer look at sentiment scores."
   ]
  },
  {
   "cell_type": "code",
   "execution_count": 14,
   "id": "516e2cb8",
   "metadata": {},
   "outputs": [
    {
     "name": "stdout",
     "output_type": "stream",
     "text": [
      "Collecting emoji\n",
      "  Obtaining dependency information for emoji from https://files.pythonhosted.org/packages/96/c6/0114b2040a96561fd1b44c75df749bbd3c898bf8047fb5ce8d7590d2dee6/emoji-2.8.0-py2.py3-none-any.whl.metadata\n",
      "  Downloading emoji-2.8.0-py2.py3-none-any.whl.metadata (5.3 kB)\n",
      "Downloading emoji-2.8.0-py2.py3-none-any.whl (358 kB)\n",
      "   ---------------------------------------- 0.0/358.9 kB ? eta -:--:--\n",
      "   --- ------------------------------------ 30.7/358.9 kB 1.3 MB/s eta 0:00:01\n",
      "   ---------- ----------------------------- 92.2/358.9 kB 1.3 MB/s eta 0:00:01\n",
      "   --------------- ------------------------ 143.4/358.9 kB 1.2 MB/s eta 0:00:01\n",
      "   ---------------------------- ----------- 256.0/358.9 kB 1.4 MB/s eta 0:00:01\n",
      "   ------------------------------------ --- 327.7/358.9 kB 1.4 MB/s eta 0:00:01\n",
      "   ---------------------------------------  358.4/358.9 kB 1.5 MB/s eta 0:00:01\n",
      "   ---------------------------------------- 358.9/358.9 kB 1.3 MB/s eta 0:00:00\n",
      "Installing collected packages: emoji\n",
      "Successfully installed emoji-2.8.0\n",
      "Note: you may need to restart the kernel to use updated packages.\n"
     ]
    }
   ],
   "source": [
    "pip install emoji"
   ]
  },
  {
   "cell_type": "code",
   "execution_count": 15,
   "id": "650684dd",
   "metadata": {},
   "outputs": [
    {
     "name": "stdout",
     "output_type": "stream",
     "text": [
      "Positive : 6359.91000000002\n",
      "Negative : 1473.4750000000038\n",
      "Neutral : 12657.627999999937\n"
     ]
    }
   ],
   "source": [
    "print(\"Positive :\",x)\n",
    "print(\"Negative :\",y)\n",
    "print(\"Neutral :\",z)"
   ]
  },
  {
   "cell_type": "code",
   "execution_count": null,
   "id": "b914772c",
   "metadata": {},
   "outputs": [],
   "source": []
  }
 ],
 "metadata": {
  "kernelspec": {
   "display_name": "Python 3 (ipykernel)",
   "language": "python",
   "name": "python3"
  },
  "language_info": {
   "codemirror_mode": {
    "name": "ipython",
    "version": 3
   },
   "file_extension": ".py",
   "mimetype": "text/x-python",
   "name": "python",
   "nbconvert_exporter": "python",
   "pygments_lexer": "ipython3",
   "version": "3.11.4"
  }
 },
 "nbformat": 4,
 "nbformat_minor": 5
}
