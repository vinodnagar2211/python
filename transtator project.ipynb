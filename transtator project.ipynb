{
 "cells": [
  {
   "cell_type": "code",
   "execution_count": 1,
   "id": "5af02af3",
   "metadata": {},
   "outputs": [],
   "source": [
    "# !pip install googletrans==3.1.0a0\n",
    "# !pip install SpeechRecognition\n",
    "# !pip install PyAudio\n",
    "# !pip install gTTS\n",
    "# !pip install playsound==1.2.2"
   ]
  },
  {
   "cell_type": "code",
   "execution_count": null,
   "id": "7be321d4",
   "metadata": {},
   "outputs": [],
   "source": [
    "pip install --upgrade library_name\n"
   ]
  },
  {
   "cell_type": "code",
   "execution_count": 6,
   "id": "3562b563",
   "metadata": {},
   "outputs": [
    {
     "name": "stdout",
     "output_type": "stream",
     "text": [
      "speak now\n"
     ]
    },
    {
     "ename": "AttributeError",
     "evalue": "'Recognizer' object has no attribute 'recognizer_google'",
     "output_type": "error",
     "traceback": [
      "\u001b[1;31m---------------------------------------------------------------------------\u001b[0m",
      "\u001b[1;31mAttributeError\u001b[0m                            Traceback (most recent call last)",
      "Cell \u001b[1;32mIn[6], line 12\u001b[0m\n\u001b[0;32m     10\u001b[0m     \u001b[38;5;28mprint\u001b[39m (\u001b[38;5;124m\"\u001b[39m\u001b[38;5;124mspeak now\u001b[39m\u001b[38;5;124m\"\u001b[39m)\n\u001b[0;32m     11\u001b[0m     voice \u001b[38;5;241m=\u001b[39m recognizer\u001b[38;5;241m.\u001b[39mlisten(source)\n\u001b[1;32m---> 12\u001b[0m     text \u001b[38;5;241m=\u001b[39m recognizer\u001b[38;5;241m.\u001b[39mrecognizer_google(voice,lannuage \u001b[38;5;241m=\u001b[39m input_lang)\n\u001b[0;32m     13\u001b[0m     \u001b[38;5;28mprint\u001b[39m (text)\n\u001b[0;32m     16\u001b[0m translator \u001b[38;5;241m=\u001b[39m googletrans\u001b[38;5;241m.\u001b[39mTranslator()\n",
      "\u001b[1;31mAttributeError\u001b[0m: 'Recognizer' object has no attribute 'recognizer_google'"
     ]
    }
   ],
   "source": [
    "# import googletrans\n",
    "# import speech_recognition\n",
    "# import gtts\n",
    "# import playsound\n",
    "# input_lang = \"en\"\n",
    "# output_lang = \"en\"\n",
    "\n",
    "# recognizer = speech_recognition.Recognizer()\n",
    "# with speech_recognition.Microphone () as source :\n",
    "#     print (\"speak now\")\n",
    "#     voice = recognizer.listen(source)\n",
    "#     text = recognizer.recognizer_google(voice,lannuage = input_lang)\n",
    "#     print (text)\n",
    "\n",
    "\n",
    "# translator = googletrans.Translator()\n",
    "# translation = translator. translate(text,dest = output_lang)\n",
    "# print (translation.text)\n",
    "# converted_audio = gtts.gTTS(translation.text,lang = output_lang)\n",
    "# converted_audio.save(\"hello.mp3\")\n",
    "# playsound.playsound(\"hello.mp3\")"
   ]
  },
  {
   "cell_type": "code",
   "execution_count": null,
   "id": "fb3b4e3a",
   "metadata": {},
   "outputs": [],
   "source": [
    "# import googletrans\n",
    "# import speech_recognition\n",
    "# import gtts\n",
    "# import playsound\n",
    "\n",
    "# input_lang = \"hi\"\n",
    "# output_lang = \"en\"\n",
    "\n",
    "# recognizer = speech_recognition.Recognizer()\n",
    "# with speech_recognition.Microphone() as source:\n",
    "#     print(\"Speak now\")\n",
    "#     voice = recognizer.listen(source)\n",
    "#     text = recognizer.recognize_google(voice, language=input_lang)\n",
    "#     print(text)\n",
    "\n",
    "# translator = googletrans.Translator()\n",
    "# translation = translator.translate(text, dest=output_lang)\n",
    "# print(translation.text)\n",
    "\n",
    "# converted_audio = gtts.gTTS(translation.text, lang=output_lang)\n",
    "# converted_audio.save(\"hello.mp3\")\n",
    "# playsound.playsound(\"hello.mp3\")\n"
   ]
  },
  {
   "cell_type": "code",
   "execution_count": null,
   "id": "63dc83a8",
   "metadata": {},
   "outputs": [],
   "source": [
    "import googletrans\n",
    "import speech_recognition\n",
    "import gtts\n",
    "import playsound"
   ]
  },
  {
   "cell_type": "code",
   "execution_count": null,
   "id": "0d60b09a",
   "metadata": {},
   "outputs": [],
   "source": [
    "# input_lang = \"hi\"  # English\n",
    "# output_lang = \"en\"  # Hindi\n",
    "\n",
    "# recognizer = speech_recognition.Recognizer()\n",
    "# with speech_recognition.Microphone() as source:\n",
    "#     print(\"Speak now\")\n",
    "#     voice = recognizer.listen(source)\n",
    "#     text = recognizer.recognize_google(voice, language=input_lang)\n",
    "#     print(text)\n",
    "\n",
    "# translator = googletrans.Translator()\n",
    "# translation = translator.translate(text, dest=output_lang)\n",
    "# print(translation.text)\n",
    "\n",
    "# converted_audio = gtts.gTTS(translation.text, lang=output_lang)\n",
    "# converted_audio.save(\"hello.mp3\")\n",
    "# playsound.playsound(\"hello.mp3\")"
   ]
  },
  {
   "cell_type": "code",
   "execution_count": 15,
   "id": "0f9d5df9",
   "metadata": {},
   "outputs": [
    {
     "name": "stdout",
     "output_type": "stream",
     "text": [
      "Speak now\n",
      "how audio\n",
      "कैसे ऑडियो\n"
     ]
    },
    {
     "ename": "PermissionError",
     "evalue": "[Errno 13] Permission denied: 'hello.mp3'",
     "output_type": "error",
     "traceback": [
      "\u001b[1;31m---------------------------------------------------------------------------\u001b[0m",
      "\u001b[1;31mPermissionError\u001b[0m                           Traceback (most recent call last)",
      "Cell \u001b[1;32mIn[15], line 21\u001b[0m\n\u001b[0;32m     18\u001b[0m \u001b[38;5;28mprint\u001b[39m(translation\u001b[38;5;241m.\u001b[39mtext)\n\u001b[0;32m     20\u001b[0m converted_audio \u001b[38;5;241m=\u001b[39m gtts\u001b[38;5;241m.\u001b[39mgTTS(translation\u001b[38;5;241m.\u001b[39mtext, lang\u001b[38;5;241m=\u001b[39moutput_lang)\n\u001b[1;32m---> 21\u001b[0m converted_audio\u001b[38;5;241m.\u001b[39msave(\u001b[38;5;124m\"\u001b[39m\u001b[38;5;124mhello.mp3\u001b[39m\u001b[38;5;124m\"\u001b[39m)\n\u001b[0;32m     22\u001b[0m playsound\u001b[38;5;241m.\u001b[39mplaysound(\u001b[38;5;124m\"\u001b[39m\u001b[38;5;124mhello.mp3\u001b[39m\u001b[38;5;124m\"\u001b[39m)\n",
      "File \u001b[1;32m~\\anaconda3\\conda\\Lib\\site-packages\\gtts\\tts.py:334\u001b[0m, in \u001b[0;36mgTTS.save\u001b[1;34m(self, savefile)\u001b[0m\n\u001b[0;32m    324\u001b[0m \u001b[38;5;28;01mdef\u001b[39;00m \u001b[38;5;21msave\u001b[39m(\u001b[38;5;28mself\u001b[39m, savefile):\n\u001b[0;32m    325\u001b[0m \u001b[38;5;250m    \u001b[39m\u001b[38;5;124;03m\"\"\"Do the TTS API request and write result to file.\u001b[39;00m\n\u001b[0;32m    326\u001b[0m \n\u001b[0;32m    327\u001b[0m \u001b[38;5;124;03m    Args:\u001b[39;00m\n\u001b[1;32m   (...)\u001b[0m\n\u001b[0;32m    332\u001b[0m \n\u001b[0;32m    333\u001b[0m \u001b[38;5;124;03m    \"\"\"\u001b[39;00m\n\u001b[1;32m--> 334\u001b[0m     \u001b[38;5;28;01mwith\u001b[39;00m \u001b[38;5;28mopen\u001b[39m(\u001b[38;5;28mstr\u001b[39m(savefile), \u001b[38;5;124m\"\u001b[39m\u001b[38;5;124mwb\u001b[39m\u001b[38;5;124m\"\u001b[39m) \u001b[38;5;28;01mas\u001b[39;00m f:\n\u001b[0;32m    335\u001b[0m         \u001b[38;5;28mself\u001b[39m\u001b[38;5;241m.\u001b[39mwrite_to_fp(f)\n\u001b[0;32m    336\u001b[0m         f\u001b[38;5;241m.\u001b[39mflush()\n",
      "\u001b[1;31mPermissionError\u001b[0m: [Errno 13] Permission denied: 'hello.mp3'"
     ]
    }
   ],
   "source": [
    "# import googletrans\n",
    "# import speech_recognition\n",
    "# import gtts\n",
    "# import playsound\n",
    "\n",
    "input_lang = \"en\"  # English\n",
    "output_lang = \"hi\"  # Hindi\n",
    "\n",
    "recognizer = speech_recognition.Recognizer()\n",
    "with speech_recognition.Microphone() as source:\n",
    "    print(\"Speak now\")\n",
    "    voice = recognizer.listen(source)\n",
    "    text = recognizer.recognize_google(voice, language=input_lang)\n",
    "    print(text)\n",
    "\n",
    "translator = googletrans.Translator()\n",
    "translation = translator.translate(text, dest=output_lang)\n",
    "print(translation.text)\n",
    "\n",
    "converted_audio = gtts.gTTS(translation.text, lang=output_lang)\n",
    "converted_audio.save(\"hello.mp3\")\n",
    "playsound.playsound(\"hello.mp3\")\n"
   ]
  },
  {
   "cell_type": "code",
   "execution_count": null,
   "id": "5465bfc0",
   "metadata": {},
   "outputs": [],
   "source": [
    "# import googletrans\n",
    "# import speech_recognition\n",
    "# import gtts\n",
    "# import playsound\n",
    "\n",
    "# input_lang = \"en\"  # English\n",
    "# output_lang = \"hi\"  # Hindi\n",
    "\n",
    "# recognizer = speech_recognition.Recognizer()\n",
    "# with speech_recognition.Microphone() as source:\n",
    "#     print(\"Speak now\")\n",
    "#     voice = recognizer.listen(source)\n",
    "#     text = recognizer.recognize_google(voice, language=input_lang)\n",
    "#     print(text)\n",
    "\n",
    "# translator = googletrans.Translator()\n",
    "# translation = translator.translate(text, dest=output_lang)\n",
    "# print(translation.text)\n",
    "\n",
    "# converted_audio = gtts.gTTS(translation.text, lang=output_lang)\n",
    "# converted_audio.save(\"hello.mp3\")\n",
    "# playsound.playsound(\"hello.mp3\")\n"
   ]
  },
  {
   "cell_type": "code",
   "execution_count": null,
   "id": "208e8504",
   "metadata": {},
   "outputs": [],
   "source": []
  }
 ],
 "metadata": {
  "kernelspec": {
   "display_name": "Python 3 (ipykernel)",
   "language": "python",
   "name": "python3"
  },
  "language_info": {
   "codemirror_mode": {
    "name": "ipython",
    "version": 3
   },
   "file_extension": ".py",
   "mimetype": "text/x-python",
   "name": "python",
   "nbconvert_exporter": "python",
   "pygments_lexer": "ipython3",
   "version": "3.11.4"
  }
 },
 "nbformat": 4,
 "nbformat_minor": 5
}
